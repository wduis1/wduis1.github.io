{
  "nbformat": 4,
  "nbformat_minor": 0,
  "metadata": {
    "colab": {
      "provenance": []
    },
    "kernelspec": {
      "name": "python3",
      "display_name": "Python 3"
    },
    "language_info": {
      "name": "python"
    }
  },
  "cells": [
    {
      "cell_type": "markdown",
      "source": [
        "<center><h1>Power and Carbon Dioxide Emissions</h1></center>\n",
        "<center><h2>CMSC320 Final Tutorial - Will Duis</h2></center>"
      ],
      "metadata": {
        "id": "a5ekVcAGHxVP"
      }
    },
    {
      "cell_type": "markdown",
      "source": [
        "<center><h3>Table of Contents</h3></center>\n",
        "<ul>\n",
        "<li><a href='#introduction'>Introduction</a></li>\n",
        "<li><a href='#imports'>Imports</a></li>\n",
        "<li><a href='#collection'>Part 1: Data Collection</a></li>\n",
        "<li><a href='#processing'>Part 2: Data Processing</a>\n",
        "  <ul>\n",
        "  <li><a href='#gppdata'>Cleaning the GPP Data</a></li>\n",
        "  <li><a href='#co2data'>Cleaning the CO<sup>2</sup> Data</a></li>\n",
        "  <li><a href='#combine'>Combining the Data</a></li>\n",
        "  <li><a href='#missing'>Missing Data</a></li>\n",
        "  </ul>\n",
        "</li>\n",
        "<li><a href='#eda'>Part 3: Exploratory Data Analysis</a></li>\n",
        "<li><a href='#learning'>Part 4: Machine Learning</a></li>\n",
        "<li><a href='#insights'>Part 5: Insights</a></li>\n",
        "</ul>"
      ],
      "metadata": {
        "id": "7IQuCki_rfZY"
      }
    },
    {
      "cell_type": "markdown",
      "source": [
        "<center><h3 id='introduction'>Introduction</h3></center>\n",
        "\n",
        "The climate of Earth is gradually becoming more and more extreme, largely due to humanity's overuse of fossil fuels for power generation.\n",
        "\n",
        "This project will use the Python programming language to analyze the correlation between power generation and carbon dioxide emissions in 2017 using the data science pipeline. The year 2017 was picked because it is the most recent year in the available data.\n",
        "\n",
        "This project will take you through the entire data science pipeline."
      ],
      "metadata": {
        "id": "tpfky1aVGgYn"
      }
    },
    {
      "cell_type": "markdown",
      "source": [
        "<center><h3 id='imports'>Imports</h3></center>\n",
        "\n",
        "As mentioned above, this project is using the Python programming language. This includes several libraries, which are imported below."
      ],
      "metadata": {
        "id": "HpPbFe_NGmZO"
      }
    },
    {
      "cell_type": "code",
      "source": [
        "# Basic data science libraries\n",
        "import pandas as pd\n",
        "import numpy as np\n",
        "\n",
        "# Plotting data\n",
        "import matplotlib.pyplot as plt\n",
        "\n",
        "# Random number generation\n",
        "import random\n",
        "\n",
        "# Linear regression\n",
        "from sklearn.linear_model import LinearRegression"
      ],
      "metadata": {
        "id": "_oDgyZ14GloR"
      },
      "execution_count": 74,
      "outputs": []
    },
    {
      "cell_type": "markdown",
      "source": [
        "Two of the most important libraries used in this project are <a href='https://pandas.pydata.org/'>pandas</a> and <a href='https://numpy.org/'>NumPy</a>. Both of these are open source libraries for Python that allow for the easy storage, manipulation, and usage of data.\n",
        "\n",
        "As you can see, there are several other libraries used, but these will be explained when they are used."
      ],
      "metadata": {
        "id": "zazTBuXNK64Z"
      }
    },
    {
      "cell_type": "markdown",
      "source": [
        "<center><h3 id='collection'>Part 1: Data Collection</h3></center>\n",
        "\n",
        "As with all data science, the first step is to collect the data you will be using. For this project, you will be using the following:\n",
        "<ul>\n",
        "<li>World Resource Institute's global power plant data (found <a href='https://datasets.wri.org/dataset/globalpowerplantdatabase'>here</a>)</li>\n",
        "<li>Our World in Data's data on carbon dioxide emissions (found <a href='https://github.com/owid/co2-data'>here</a>)</li>\n",
        "</ul>\n",
        "\n",
        "In order to use the data, you must first read it into our Python notebook as a variable. To do this, you should use pandas. Its <a href='https://pandas.pydata.org/docs/reference/api/pandas.read_csv.html'>read_csv()</a> method allows you to store a CSV file as a pandas <a href='https://pandas.pydata.org/docs/reference/api/pandas.DataFrame.html'>DataFrame</a>, which is essentially a table.\n",
        "\n",
        "<br>\n",
        "\n",
        "When reading your CSV files, remember to change the file path to match your device. Otherwise, you will have errors.\n",
        "\n",
        "You can change the file paths by typing them into the form fields next to the code."
      ],
      "metadata": {
        "id": "y64CtNeMIR89"
      }
    },
    {
      "cell_type": "code",
      "execution_count": 75,
      "metadata": {
        "id": "QxK3svE1HupQ"
      },
      "outputs": [],
      "source": [
        "# Reads the CSV files into pandas DataFrames.\n",
        "# Remember to change the file path before running the code!\n",
        "gpp_data_file_path = \"/content/drive/MyDrive/Colab Notebooks/CMSC320/Final Tutorial/global_power_plant_database.csv\" # @param {type:\"string\"}\n",
        "co2_data_file_path = \"/content/drive/MyDrive/Colab Notebooks/CMSC320/Final Tutorial/owid-co2-data.csv\" # @param {type:\"string\"}\n",
        "\n",
        "gpp_data = pd.read_csv(gpp_data_file_path, low_memory=False)\n",
        "co2_data = pd.read_csv(co2_data_file_path)"
      ]
    },
    {
      "cell_type": "markdown",
      "source": [
        "<center><h3 id='#processing'>Part 2: Data Processing</h3></center>\n",
        "\n",
        "Although our data has been read, we cannot use it just yet. We must first make it usable by removing the excess data we do not need. This is commonly accomplished with pandas' <a href='https://pandas.pydata.org/docs/reference/api/pandas.DataFrame.drop.html'>drop()</a> method, although this method is mostly not what is used below."
      ],
      "metadata": {
        "id": "hwKawwc-P3V6"
      }
    },
    {
      "cell_type": "markdown",
      "source": [
        "<center><h4 id='gppdata'>Cleaning the GPP Data</h4></center>\n",
        "\n",
        "First, we will remove data from any power plants from after 2017.<br>\n",
        "Second, we will remove data from all columns that this project will not use.\n",
        "Third, we will rename the columns to match the CO<sup>2</sup> DataFrame."
      ],
      "metadata": {
        "id": "fT01gq8MW_Z8"
      }
    },
    {
      "cell_type": "code",
      "source": [
        "# Removes data from all power plants from after 2017.\n",
        "gpp_data = gpp_data[gpp_data['commissioning_year'] <= 2017]\n",
        "# Removes all unused columns from the GPP dataset.\n",
        "gpp_data = gpp_data[['country_long', 'country', 'primary_fuel', 'estimated_generation_gwh_2017']]\n",
        "# Rename the columns to match the CO2 dataset.\n",
        "gpp_data.columns = ['country', 'iso_code', 'primary_fuel', 'estimated_generation_gwh_2017']"
      ],
      "metadata": {
        "id": "MOTPOD6fWZZm"
      },
      "execution_count": 76,
      "outputs": []
    },
    {
      "cell_type": "markdown",
      "source": [
        "After removing the excess data, we will now combine each power plant's data by its primary fuel. Pandas can do this with the <a href='https://pandas.pydata.org/docs/reference/api/pandas.DataFrame.groupby.html'>groupby()</a> method. This results in a breakdown of each country's power generation by type.\n",
        "\n",
        "After grouping, the DataFrame must be adjusted to remove MultiIndexes. This can be done with panda's <a href = 'https://pandas.pydata.org/docs/reference/api/pandas.DataFrame.reset_index.html'>reset_index()</a> method."
      ],
      "metadata": {
        "id": "RkYxl7JKcP4c"
      }
    },
    {
      "cell_type": "code",
      "source": [
        "# Group the data by country and fuel type.\n",
        "gpp_data = gpp_data.groupby(['country', 'iso_code', 'primary_fuel']).sum()\n",
        "# Remove the MultiIndex to fix the DataFrame.\n",
        "gpp_data = gpp_data.reset_index(level=[0,1,2])"
      ],
      "metadata": {
        "id": "6id0yL04dBkz"
      },
      "execution_count": 77,
      "outputs": []
    },
    {
      "cell_type": "markdown",
      "source": [
        "The <a href='https://pandas.pydata.org/docs/reference/api/pandas.DataFrame.head.html'>head()</a> method from pandas returns the first few (by default, 5) rows of a DataFrame. This is useful for ensuring that pandas operations had their intended results."
      ],
      "metadata": {
        "id": "cJk_HhcvmBGw"
      }
    },
    {
      "cell_type": "code",
      "source": [
        "# Use the head() method to display the top 5 rows of gpp_data.\n",
        "gpp_data.head()"
      ],
      "metadata": {
        "colab": {
          "base_uri": "https://localhost:8080/",
          "height": 206
        },
        "id": "qmLJZ4ZzmBp-",
        "outputId": "f15a5eda-40b3-455e-abc0-fab52f30c759"
      },
      "execution_count": 78,
      "outputs": [
        {
          "output_type": "execute_result",
          "data": {
            "text/plain": [
              "      country iso_code primary_fuel  estimated_generation_gwh_2017\n",
              "0     Albania      ALB        Hydro                        4608.91\n",
              "1     Algeria      DZA          Gas                       39867.96\n",
              "2     Algeria      DZA        Hydro                          30.82\n",
              "3  Antarctica      ATA          Oil                           0.00\n",
              "4   Argentina      ARG         Coal                       25107.35"
            ],
            "text/html": [
              "\n",
              "\n",
              "  <div id=\"df-c6e07865-4891-4893-86e0-de2d4f907720\">\n",
              "    <div class=\"colab-df-container\">\n",
              "      <div>\n",
              "<style scoped>\n",
              "    .dataframe tbody tr th:only-of-type {\n",
              "        vertical-align: middle;\n",
              "    }\n",
              "\n",
              "    .dataframe tbody tr th {\n",
              "        vertical-align: top;\n",
              "    }\n",
              "\n",
              "    .dataframe thead th {\n",
              "        text-align: right;\n",
              "    }\n",
              "</style>\n",
              "<table border=\"1\" class=\"dataframe\">\n",
              "  <thead>\n",
              "    <tr style=\"text-align: right;\">\n",
              "      <th></th>\n",
              "      <th>country</th>\n",
              "      <th>iso_code</th>\n",
              "      <th>primary_fuel</th>\n",
              "      <th>estimated_generation_gwh_2017</th>\n",
              "    </tr>\n",
              "  </thead>\n",
              "  <tbody>\n",
              "    <tr>\n",
              "      <th>0</th>\n",
              "      <td>Albania</td>\n",
              "      <td>ALB</td>\n",
              "      <td>Hydro</td>\n",
              "      <td>4608.91</td>\n",
              "    </tr>\n",
              "    <tr>\n",
              "      <th>1</th>\n",
              "      <td>Algeria</td>\n",
              "      <td>DZA</td>\n",
              "      <td>Gas</td>\n",
              "      <td>39867.96</td>\n",
              "    </tr>\n",
              "    <tr>\n",
              "      <th>2</th>\n",
              "      <td>Algeria</td>\n",
              "      <td>DZA</td>\n",
              "      <td>Hydro</td>\n",
              "      <td>30.82</td>\n",
              "    </tr>\n",
              "    <tr>\n",
              "      <th>3</th>\n",
              "      <td>Antarctica</td>\n",
              "      <td>ATA</td>\n",
              "      <td>Oil</td>\n",
              "      <td>0.00</td>\n",
              "    </tr>\n",
              "    <tr>\n",
              "      <th>4</th>\n",
              "      <td>Argentina</td>\n",
              "      <td>ARG</td>\n",
              "      <td>Coal</td>\n",
              "      <td>25107.35</td>\n",
              "    </tr>\n",
              "  </tbody>\n",
              "</table>\n",
              "</div>\n",
              "      <button class=\"colab-df-convert\" onclick=\"convertToInteractive('df-c6e07865-4891-4893-86e0-de2d4f907720')\"\n",
              "              title=\"Convert this dataframe to an interactive table.\"\n",
              "              style=\"display:none;\">\n",
              "\n",
              "  <svg xmlns=\"http://www.w3.org/2000/svg\" height=\"24px\"viewBox=\"0 0 24 24\"\n",
              "       width=\"24px\">\n",
              "    <path d=\"M0 0h24v24H0V0z\" fill=\"none\"/>\n",
              "    <path d=\"M18.56 5.44l.94 2.06.94-2.06 2.06-.94-2.06-.94-.94-2.06-.94 2.06-2.06.94zm-11 1L8.5 8.5l.94-2.06 2.06-.94-2.06-.94L8.5 2.5l-.94 2.06-2.06.94zm10 10l.94 2.06.94-2.06 2.06-.94-2.06-.94-.94-2.06-.94 2.06-2.06.94z\"/><path d=\"M17.41 7.96l-1.37-1.37c-.4-.4-.92-.59-1.43-.59-.52 0-1.04.2-1.43.59L10.3 9.45l-7.72 7.72c-.78.78-.78 2.05 0 2.83L4 21.41c.39.39.9.59 1.41.59.51 0 1.02-.2 1.41-.59l7.78-7.78 2.81-2.81c.8-.78.8-2.07 0-2.86zM5.41 20L4 18.59l7.72-7.72 1.47 1.35L5.41 20z\"/>\n",
              "  </svg>\n",
              "      </button>\n",
              "\n",
              "\n",
              "\n",
              "    <div id=\"df-d25bbf1e-4702-4a50-b7e4-c7bce502c712\">\n",
              "      <button class=\"colab-df-quickchart\" onclick=\"quickchart('df-d25bbf1e-4702-4a50-b7e4-c7bce502c712')\"\n",
              "              title=\"Suggest charts.\"\n",
              "              style=\"display:none;\">\n",
              "\n",
              "<svg xmlns=\"http://www.w3.org/2000/svg\" height=\"24px\"viewBox=\"0 0 24 24\"\n",
              "     width=\"24px\">\n",
              "    <g>\n",
              "        <path d=\"M19 3H5c-1.1 0-2 .9-2 2v14c0 1.1.9 2 2 2h14c1.1 0 2-.9 2-2V5c0-1.1-.9-2-2-2zM9 17H7v-7h2v7zm4 0h-2V7h2v10zm4 0h-2v-4h2v4z\"/>\n",
              "    </g>\n",
              "</svg>\n",
              "      </button>\n",
              "    </div>\n",
              "\n",
              "<style>\n",
              "  .colab-df-quickchart {\n",
              "    background-color: #E8F0FE;\n",
              "    border: none;\n",
              "    border-radius: 50%;\n",
              "    cursor: pointer;\n",
              "    display: none;\n",
              "    fill: #1967D2;\n",
              "    height: 32px;\n",
              "    padding: 0 0 0 0;\n",
              "    width: 32px;\n",
              "  }\n",
              "\n",
              "  .colab-df-quickchart:hover {\n",
              "    background-color: #E2EBFA;\n",
              "    box-shadow: 0px 1px 2px rgba(60, 64, 67, 0.3), 0px 1px 3px 1px rgba(60, 64, 67, 0.15);\n",
              "    fill: #174EA6;\n",
              "  }\n",
              "\n",
              "  [theme=dark] .colab-df-quickchart {\n",
              "    background-color: #3B4455;\n",
              "    fill: #D2E3FC;\n",
              "  }\n",
              "\n",
              "  [theme=dark] .colab-df-quickchart:hover {\n",
              "    background-color: #434B5C;\n",
              "    box-shadow: 0px 1px 3px 1px rgba(0, 0, 0, 0.15);\n",
              "    filter: drop-shadow(0px 1px 2px rgba(0, 0, 0, 0.3));\n",
              "    fill: #FFFFFF;\n",
              "  }\n",
              "</style>\n",
              "\n",
              "    <script>\n",
              "      async function quickchart(key) {\n",
              "        const containerElement = document.querySelector('#' + key);\n",
              "        const charts = await google.colab.kernel.invokeFunction(\n",
              "            'suggestCharts', [key], {});\n",
              "      }\n",
              "    </script>\n",
              "\n",
              "      <script>\n",
              "\n",
              "function displayQuickchartButton(domScope) {\n",
              "  let quickchartButtonEl =\n",
              "    domScope.querySelector('#df-d25bbf1e-4702-4a50-b7e4-c7bce502c712 button.colab-df-quickchart');\n",
              "  quickchartButtonEl.style.display =\n",
              "    google.colab.kernel.accessAllowed ? 'block' : 'none';\n",
              "}\n",
              "\n",
              "        displayQuickchartButton(document);\n",
              "      </script>\n",
              "      <style>\n",
              "    .colab-df-container {\n",
              "      display:flex;\n",
              "      flex-wrap:wrap;\n",
              "      gap: 12px;\n",
              "    }\n",
              "\n",
              "    .colab-df-convert {\n",
              "      background-color: #E8F0FE;\n",
              "      border: none;\n",
              "      border-radius: 50%;\n",
              "      cursor: pointer;\n",
              "      display: none;\n",
              "      fill: #1967D2;\n",
              "      height: 32px;\n",
              "      padding: 0 0 0 0;\n",
              "      width: 32px;\n",
              "    }\n",
              "\n",
              "    .colab-df-convert:hover {\n",
              "      background-color: #E2EBFA;\n",
              "      box-shadow: 0px 1px 2px rgba(60, 64, 67, 0.3), 0px 1px 3px 1px rgba(60, 64, 67, 0.15);\n",
              "      fill: #174EA6;\n",
              "    }\n",
              "\n",
              "    [theme=dark] .colab-df-convert {\n",
              "      background-color: #3B4455;\n",
              "      fill: #D2E3FC;\n",
              "    }\n",
              "\n",
              "    [theme=dark] .colab-df-convert:hover {\n",
              "      background-color: #434B5C;\n",
              "      box-shadow: 0px 1px 3px 1px rgba(0, 0, 0, 0.15);\n",
              "      filter: drop-shadow(0px 1px 2px rgba(0, 0, 0, 0.3));\n",
              "      fill: #FFFFFF;\n",
              "    }\n",
              "  </style>\n",
              "\n",
              "      <script>\n",
              "        const buttonEl =\n",
              "          document.querySelector('#df-c6e07865-4891-4893-86e0-de2d4f907720 button.colab-df-convert');\n",
              "        buttonEl.style.display =\n",
              "          google.colab.kernel.accessAllowed ? 'block' : 'none';\n",
              "\n",
              "        async function convertToInteractive(key) {\n",
              "          const element = document.querySelector('#df-c6e07865-4891-4893-86e0-de2d4f907720');\n",
              "          const dataTable =\n",
              "            await google.colab.kernel.invokeFunction('convertToInteractive',\n",
              "                                                     [key], {});\n",
              "          if (!dataTable) return;\n",
              "\n",
              "          const docLinkHtml = 'Like what you see? Visit the ' +\n",
              "            '<a target=\"_blank\" href=https://colab.research.google.com/notebooks/data_table.ipynb>data table notebook</a>'\n",
              "            + ' to learn more about interactive tables.';\n",
              "          element.innerHTML = '';\n",
              "          dataTable['output_type'] = 'display_data';\n",
              "          await google.colab.output.renderOutput(dataTable, element);\n",
              "          const docLink = document.createElement('div');\n",
              "          docLink.innerHTML = docLinkHtml;\n",
              "          element.appendChild(docLink);\n",
              "        }\n",
              "      </script>\n",
              "    </div>\n",
              "  </div>\n"
            ]
          },
          "metadata": {},
          "execution_count": 78
        }
      ]
    },
    {
      "cell_type": "markdown",
      "source": [
        "<center><h4 id='co2data'>Cleaning the CO<sup>2</sup> Data</h4></center>\n",
        "\n",
        "First, we should remove all data from the CO<sup>2</sup> DataFrame that is not from 2017, since that is the year we are focusing on.<br>\n",
        "Second, we should remove all columns that this project will not use."
      ],
      "metadata": {
        "id": "Fw_OeCDRTkHs"
      }
    },
    {
      "cell_type": "code",
      "source": [
        "# Removes all non-2017 rows from the CO2 dataset.\n",
        "co2_data = co2_data[co2_data['year'] == 2017]\n",
        "# Removes all unused columns from the CO2 dataset.\n",
        "co2_data = co2_data[['country', 'iso_code', 'population', 'co2']]"
      ],
      "metadata": {
        "id": "7xjppjUpPy9Q"
      },
      "execution_count": 79,
      "outputs": []
    },
    {
      "cell_type": "code",
      "source": [
        "co2_data.head()"
      ],
      "metadata": {
        "colab": {
          "base_uri": "https://localhost:8080/",
          "height": 206
        },
        "id": "1T7Kv7bHmET1",
        "outputId": "133bab20-6435-4e85-9cf2-d6877d8c991b"
      },
      "execution_count": 80,
      "outputs": [
        {
          "output_type": "execute_result",
          "data": {
            "text/plain": [
              "           country iso_code    population       co2\n",
              "167    Afghanistan      AFG  3.564342e+07     9.868\n",
              "439         Africa      NaN  1.263334e+09  1379.490\n",
              "611   Africa (GCP)      NaN           NaN  1379.479\n",
              "783  Aland Islands      ALA           NaN       NaN\n",
              "955        Albania      ALB  2.879361e+06     5.564"
            ],
            "text/html": [
              "\n",
              "\n",
              "  <div id=\"df-f92e1bee-7ca2-401d-8b51-2674e522998d\">\n",
              "    <div class=\"colab-df-container\">\n",
              "      <div>\n",
              "<style scoped>\n",
              "    .dataframe tbody tr th:only-of-type {\n",
              "        vertical-align: middle;\n",
              "    }\n",
              "\n",
              "    .dataframe tbody tr th {\n",
              "        vertical-align: top;\n",
              "    }\n",
              "\n",
              "    .dataframe thead th {\n",
              "        text-align: right;\n",
              "    }\n",
              "</style>\n",
              "<table border=\"1\" class=\"dataframe\">\n",
              "  <thead>\n",
              "    <tr style=\"text-align: right;\">\n",
              "      <th></th>\n",
              "      <th>country</th>\n",
              "      <th>iso_code</th>\n",
              "      <th>population</th>\n",
              "      <th>co2</th>\n",
              "    </tr>\n",
              "  </thead>\n",
              "  <tbody>\n",
              "    <tr>\n",
              "      <th>167</th>\n",
              "      <td>Afghanistan</td>\n",
              "      <td>AFG</td>\n",
              "      <td>3.564342e+07</td>\n",
              "      <td>9.868</td>\n",
              "    </tr>\n",
              "    <tr>\n",
              "      <th>439</th>\n",
              "      <td>Africa</td>\n",
              "      <td>NaN</td>\n",
              "      <td>1.263334e+09</td>\n",
              "      <td>1379.490</td>\n",
              "    </tr>\n",
              "    <tr>\n",
              "      <th>611</th>\n",
              "      <td>Africa (GCP)</td>\n",
              "      <td>NaN</td>\n",
              "      <td>NaN</td>\n",
              "      <td>1379.479</td>\n",
              "    </tr>\n",
              "    <tr>\n",
              "      <th>783</th>\n",
              "      <td>Aland Islands</td>\n",
              "      <td>ALA</td>\n",
              "      <td>NaN</td>\n",
              "      <td>NaN</td>\n",
              "    </tr>\n",
              "    <tr>\n",
              "      <th>955</th>\n",
              "      <td>Albania</td>\n",
              "      <td>ALB</td>\n",
              "      <td>2.879361e+06</td>\n",
              "      <td>5.564</td>\n",
              "    </tr>\n",
              "  </tbody>\n",
              "</table>\n",
              "</div>\n",
              "      <button class=\"colab-df-convert\" onclick=\"convertToInteractive('df-f92e1bee-7ca2-401d-8b51-2674e522998d')\"\n",
              "              title=\"Convert this dataframe to an interactive table.\"\n",
              "              style=\"display:none;\">\n",
              "\n",
              "  <svg xmlns=\"http://www.w3.org/2000/svg\" height=\"24px\"viewBox=\"0 0 24 24\"\n",
              "       width=\"24px\">\n",
              "    <path d=\"M0 0h24v24H0V0z\" fill=\"none\"/>\n",
              "    <path d=\"M18.56 5.44l.94 2.06.94-2.06 2.06-.94-2.06-.94-.94-2.06-.94 2.06-2.06.94zm-11 1L8.5 8.5l.94-2.06 2.06-.94-2.06-.94L8.5 2.5l-.94 2.06-2.06.94zm10 10l.94 2.06.94-2.06 2.06-.94-2.06-.94-.94-2.06-.94 2.06-2.06.94z\"/><path d=\"M17.41 7.96l-1.37-1.37c-.4-.4-.92-.59-1.43-.59-.52 0-1.04.2-1.43.59L10.3 9.45l-7.72 7.72c-.78.78-.78 2.05 0 2.83L4 21.41c.39.39.9.59 1.41.59.51 0 1.02-.2 1.41-.59l7.78-7.78 2.81-2.81c.8-.78.8-2.07 0-2.86zM5.41 20L4 18.59l7.72-7.72 1.47 1.35L5.41 20z\"/>\n",
              "  </svg>\n",
              "      </button>\n",
              "\n",
              "\n",
              "\n",
              "    <div id=\"df-6f8da805-7e35-4c2b-b905-38d17d26e8c0\">\n",
              "      <button class=\"colab-df-quickchart\" onclick=\"quickchart('df-6f8da805-7e35-4c2b-b905-38d17d26e8c0')\"\n",
              "              title=\"Suggest charts.\"\n",
              "              style=\"display:none;\">\n",
              "\n",
              "<svg xmlns=\"http://www.w3.org/2000/svg\" height=\"24px\"viewBox=\"0 0 24 24\"\n",
              "     width=\"24px\">\n",
              "    <g>\n",
              "        <path d=\"M19 3H5c-1.1 0-2 .9-2 2v14c0 1.1.9 2 2 2h14c1.1 0 2-.9 2-2V5c0-1.1-.9-2-2-2zM9 17H7v-7h2v7zm4 0h-2V7h2v10zm4 0h-2v-4h2v4z\"/>\n",
              "    </g>\n",
              "</svg>\n",
              "      </button>\n",
              "    </div>\n",
              "\n",
              "<style>\n",
              "  .colab-df-quickchart {\n",
              "    background-color: #E8F0FE;\n",
              "    border: none;\n",
              "    border-radius: 50%;\n",
              "    cursor: pointer;\n",
              "    display: none;\n",
              "    fill: #1967D2;\n",
              "    height: 32px;\n",
              "    padding: 0 0 0 0;\n",
              "    width: 32px;\n",
              "  }\n",
              "\n",
              "  .colab-df-quickchart:hover {\n",
              "    background-color: #E2EBFA;\n",
              "    box-shadow: 0px 1px 2px rgba(60, 64, 67, 0.3), 0px 1px 3px 1px rgba(60, 64, 67, 0.15);\n",
              "    fill: #174EA6;\n",
              "  }\n",
              "\n",
              "  [theme=dark] .colab-df-quickchart {\n",
              "    background-color: #3B4455;\n",
              "    fill: #D2E3FC;\n",
              "  }\n",
              "\n",
              "  [theme=dark] .colab-df-quickchart:hover {\n",
              "    background-color: #434B5C;\n",
              "    box-shadow: 0px 1px 3px 1px rgba(0, 0, 0, 0.15);\n",
              "    filter: drop-shadow(0px 1px 2px rgba(0, 0, 0, 0.3));\n",
              "    fill: #FFFFFF;\n",
              "  }\n",
              "</style>\n",
              "\n",
              "    <script>\n",
              "      async function quickchart(key) {\n",
              "        const containerElement = document.querySelector('#' + key);\n",
              "        const charts = await google.colab.kernel.invokeFunction(\n",
              "            'suggestCharts', [key], {});\n",
              "      }\n",
              "    </script>\n",
              "\n",
              "      <script>\n",
              "\n",
              "function displayQuickchartButton(domScope) {\n",
              "  let quickchartButtonEl =\n",
              "    domScope.querySelector('#df-6f8da805-7e35-4c2b-b905-38d17d26e8c0 button.colab-df-quickchart');\n",
              "  quickchartButtonEl.style.display =\n",
              "    google.colab.kernel.accessAllowed ? 'block' : 'none';\n",
              "}\n",
              "\n",
              "        displayQuickchartButton(document);\n",
              "      </script>\n",
              "      <style>\n",
              "    .colab-df-container {\n",
              "      display:flex;\n",
              "      flex-wrap:wrap;\n",
              "      gap: 12px;\n",
              "    }\n",
              "\n",
              "    .colab-df-convert {\n",
              "      background-color: #E8F0FE;\n",
              "      border: none;\n",
              "      border-radius: 50%;\n",
              "      cursor: pointer;\n",
              "      display: none;\n",
              "      fill: #1967D2;\n",
              "      height: 32px;\n",
              "      padding: 0 0 0 0;\n",
              "      width: 32px;\n",
              "    }\n",
              "\n",
              "    .colab-df-convert:hover {\n",
              "      background-color: #E2EBFA;\n",
              "      box-shadow: 0px 1px 2px rgba(60, 64, 67, 0.3), 0px 1px 3px 1px rgba(60, 64, 67, 0.15);\n",
              "      fill: #174EA6;\n",
              "    }\n",
              "\n",
              "    [theme=dark] .colab-df-convert {\n",
              "      background-color: #3B4455;\n",
              "      fill: #D2E3FC;\n",
              "    }\n",
              "\n",
              "    [theme=dark] .colab-df-convert:hover {\n",
              "      background-color: #434B5C;\n",
              "      box-shadow: 0px 1px 3px 1px rgba(0, 0, 0, 0.15);\n",
              "      filter: drop-shadow(0px 1px 2px rgba(0, 0, 0, 0.3));\n",
              "      fill: #FFFFFF;\n",
              "    }\n",
              "  </style>\n",
              "\n",
              "      <script>\n",
              "        const buttonEl =\n",
              "          document.querySelector('#df-f92e1bee-7ca2-401d-8b51-2674e522998d button.colab-df-convert');\n",
              "        buttonEl.style.display =\n",
              "          google.colab.kernel.accessAllowed ? 'block' : 'none';\n",
              "\n",
              "        async function convertToInteractive(key) {\n",
              "          const element = document.querySelector('#df-f92e1bee-7ca2-401d-8b51-2674e522998d');\n",
              "          const dataTable =\n",
              "            await google.colab.kernel.invokeFunction('convertToInteractive',\n",
              "                                                     [key], {});\n",
              "          if (!dataTable) return;\n",
              "\n",
              "          const docLinkHtml = 'Like what you see? Visit the ' +\n",
              "            '<a target=\"_blank\" href=https://colab.research.google.com/notebooks/data_table.ipynb>data table notebook</a>'\n",
              "            + ' to learn more about interactive tables.';\n",
              "          element.innerHTML = '';\n",
              "          dataTable['output_type'] = 'display_data';\n",
              "          await google.colab.output.renderOutput(dataTable, element);\n",
              "          const docLink = document.createElement('div');\n",
              "          docLink.innerHTML = docLinkHtml;\n",
              "          element.appendChild(docLink);\n",
              "        }\n",
              "      </script>\n",
              "    </div>\n",
              "  </div>\n"
            ]
          },
          "metadata": {},
          "execution_count": 80
        }
      ]
    },
    {
      "cell_type": "markdown",
      "source": [
        "<center><h4 id='combine'>Combining the Datasets</h4></center>\n",
        "\n",
        "Now that the data from both sources has been cleaned, we will now merge them together. Pandas allows us to do this with the <a href='https://pandas.pydata.org/docs/reference/api/pandas.DataFrame.merge.html'>merge()</a> method.\n",
        "\n",
        "Merging, also called joining, combines two different DataFrames together on specific columns. Specifically, we will be using an inner join, which only outputs the rows that are in both DataFrames. To learn more about the other types of joining, see <a href='https://www.geeksforgeeks.org/different-types-of-joins-in-pandas/'>this GeeksforGeeks article</a>.\n",
        "\n",
        "To make sure that the data lines up, we will be merging on the 'country' and 'iso_code' columns.\n",
        "\n",
        "Afterward, we will rename the columns to reduce length using pandas' <a href='https://pandas.pydata.org/docs/reference/api/pandas.DataFrame.rename.html'>rename()</a> method."
      ],
      "metadata": {
        "id": "UgjMgeZHYHZs"
      }
    },
    {
      "cell_type": "code",
      "source": [
        "# Inner merge the two DataFrames on 'iso_code'.\n",
        "data = co2_data.merge(gpp_data, how='inner', on=['iso_code'])\n",
        "data = data.rename({'country_x': 'country','estimated_generation_gwh_2017': 'power'}, axis='columns')\n",
        "data = data.drop('country_y', axis='columns')"
      ],
      "metadata": {
        "id": "cP7VSnRXjwT5"
      },
      "execution_count": 81,
      "outputs": []
    },
    {
      "cell_type": "code",
      "source": [
        "# Show the combined data.\n",
        "data.head()"
      ],
      "metadata": {
        "colab": {
          "base_uri": "https://localhost:8080/",
          "height": 206
        },
        "id": "b3HlX7AlkZFs",
        "outputId": "942b2d53-d138-4892-e90a-8e3a8b026a97"
      },
      "execution_count": 82,
      "outputs": [
        {
          "output_type": "execute_result",
          "data": {
            "text/plain": [
              "      country iso_code  population      co2 primary_fuel     power\n",
              "0     Albania      ALB   2879361.0    5.564        Hydro   4608.91\n",
              "1     Algeria      DZA  41136548.0  166.411          Gas  39867.96\n",
              "2     Algeria      DZA  41136548.0  166.411        Hydro     30.82\n",
              "3  Antarctica      ATA         NaN      NaN          Oil      0.00\n",
              "4   Argentina      ARG  44054616.0  186.899         Coal  25107.35"
            ],
            "text/html": [
              "\n",
              "\n",
              "  <div id=\"df-d12f7678-41f6-4002-8b54-365ad43643af\">\n",
              "    <div class=\"colab-df-container\">\n",
              "      <div>\n",
              "<style scoped>\n",
              "    .dataframe tbody tr th:only-of-type {\n",
              "        vertical-align: middle;\n",
              "    }\n",
              "\n",
              "    .dataframe tbody tr th {\n",
              "        vertical-align: top;\n",
              "    }\n",
              "\n",
              "    .dataframe thead th {\n",
              "        text-align: right;\n",
              "    }\n",
              "</style>\n",
              "<table border=\"1\" class=\"dataframe\">\n",
              "  <thead>\n",
              "    <tr style=\"text-align: right;\">\n",
              "      <th></th>\n",
              "      <th>country</th>\n",
              "      <th>iso_code</th>\n",
              "      <th>population</th>\n",
              "      <th>co2</th>\n",
              "      <th>primary_fuel</th>\n",
              "      <th>power</th>\n",
              "    </tr>\n",
              "  </thead>\n",
              "  <tbody>\n",
              "    <tr>\n",
              "      <th>0</th>\n",
              "      <td>Albania</td>\n",
              "      <td>ALB</td>\n",
              "      <td>2879361.0</td>\n",
              "      <td>5.564</td>\n",
              "      <td>Hydro</td>\n",
              "      <td>4608.91</td>\n",
              "    </tr>\n",
              "    <tr>\n",
              "      <th>1</th>\n",
              "      <td>Algeria</td>\n",
              "      <td>DZA</td>\n",
              "      <td>41136548.0</td>\n",
              "      <td>166.411</td>\n",
              "      <td>Gas</td>\n",
              "      <td>39867.96</td>\n",
              "    </tr>\n",
              "    <tr>\n",
              "      <th>2</th>\n",
              "      <td>Algeria</td>\n",
              "      <td>DZA</td>\n",
              "      <td>41136548.0</td>\n",
              "      <td>166.411</td>\n",
              "      <td>Hydro</td>\n",
              "      <td>30.82</td>\n",
              "    </tr>\n",
              "    <tr>\n",
              "      <th>3</th>\n",
              "      <td>Antarctica</td>\n",
              "      <td>ATA</td>\n",
              "      <td>NaN</td>\n",
              "      <td>NaN</td>\n",
              "      <td>Oil</td>\n",
              "      <td>0.00</td>\n",
              "    </tr>\n",
              "    <tr>\n",
              "      <th>4</th>\n",
              "      <td>Argentina</td>\n",
              "      <td>ARG</td>\n",
              "      <td>44054616.0</td>\n",
              "      <td>186.899</td>\n",
              "      <td>Coal</td>\n",
              "      <td>25107.35</td>\n",
              "    </tr>\n",
              "  </tbody>\n",
              "</table>\n",
              "</div>\n",
              "      <button class=\"colab-df-convert\" onclick=\"convertToInteractive('df-d12f7678-41f6-4002-8b54-365ad43643af')\"\n",
              "              title=\"Convert this dataframe to an interactive table.\"\n",
              "              style=\"display:none;\">\n",
              "\n",
              "  <svg xmlns=\"http://www.w3.org/2000/svg\" height=\"24px\"viewBox=\"0 0 24 24\"\n",
              "       width=\"24px\">\n",
              "    <path d=\"M0 0h24v24H0V0z\" fill=\"none\"/>\n",
              "    <path d=\"M18.56 5.44l.94 2.06.94-2.06 2.06-.94-2.06-.94-.94-2.06-.94 2.06-2.06.94zm-11 1L8.5 8.5l.94-2.06 2.06-.94-2.06-.94L8.5 2.5l-.94 2.06-2.06.94zm10 10l.94 2.06.94-2.06 2.06-.94-2.06-.94-.94-2.06-.94 2.06-2.06.94z\"/><path d=\"M17.41 7.96l-1.37-1.37c-.4-.4-.92-.59-1.43-.59-.52 0-1.04.2-1.43.59L10.3 9.45l-7.72 7.72c-.78.78-.78 2.05 0 2.83L4 21.41c.39.39.9.59 1.41.59.51 0 1.02-.2 1.41-.59l7.78-7.78 2.81-2.81c.8-.78.8-2.07 0-2.86zM5.41 20L4 18.59l7.72-7.72 1.47 1.35L5.41 20z\"/>\n",
              "  </svg>\n",
              "      </button>\n",
              "\n",
              "\n",
              "\n",
              "    <div id=\"df-c05ff65b-9219-4f9f-8387-dff96a1d70d2\">\n",
              "      <button class=\"colab-df-quickchart\" onclick=\"quickchart('df-c05ff65b-9219-4f9f-8387-dff96a1d70d2')\"\n",
              "              title=\"Suggest charts.\"\n",
              "              style=\"display:none;\">\n",
              "\n",
              "<svg xmlns=\"http://www.w3.org/2000/svg\" height=\"24px\"viewBox=\"0 0 24 24\"\n",
              "     width=\"24px\">\n",
              "    <g>\n",
              "        <path d=\"M19 3H5c-1.1 0-2 .9-2 2v14c0 1.1.9 2 2 2h14c1.1 0 2-.9 2-2V5c0-1.1-.9-2-2-2zM9 17H7v-7h2v7zm4 0h-2V7h2v10zm4 0h-2v-4h2v4z\"/>\n",
              "    </g>\n",
              "</svg>\n",
              "      </button>\n",
              "    </div>\n",
              "\n",
              "<style>\n",
              "  .colab-df-quickchart {\n",
              "    background-color: #E8F0FE;\n",
              "    border: none;\n",
              "    border-radius: 50%;\n",
              "    cursor: pointer;\n",
              "    display: none;\n",
              "    fill: #1967D2;\n",
              "    height: 32px;\n",
              "    padding: 0 0 0 0;\n",
              "    width: 32px;\n",
              "  }\n",
              "\n",
              "  .colab-df-quickchart:hover {\n",
              "    background-color: #E2EBFA;\n",
              "    box-shadow: 0px 1px 2px rgba(60, 64, 67, 0.3), 0px 1px 3px 1px rgba(60, 64, 67, 0.15);\n",
              "    fill: #174EA6;\n",
              "  }\n",
              "\n",
              "  [theme=dark] .colab-df-quickchart {\n",
              "    background-color: #3B4455;\n",
              "    fill: #D2E3FC;\n",
              "  }\n",
              "\n",
              "  [theme=dark] .colab-df-quickchart:hover {\n",
              "    background-color: #434B5C;\n",
              "    box-shadow: 0px 1px 3px 1px rgba(0, 0, 0, 0.15);\n",
              "    filter: drop-shadow(0px 1px 2px rgba(0, 0, 0, 0.3));\n",
              "    fill: #FFFFFF;\n",
              "  }\n",
              "</style>\n",
              "\n",
              "    <script>\n",
              "      async function quickchart(key) {\n",
              "        const containerElement = document.querySelector('#' + key);\n",
              "        const charts = await google.colab.kernel.invokeFunction(\n",
              "            'suggestCharts', [key], {});\n",
              "      }\n",
              "    </script>\n",
              "\n",
              "      <script>\n",
              "\n",
              "function displayQuickchartButton(domScope) {\n",
              "  let quickchartButtonEl =\n",
              "    domScope.querySelector('#df-c05ff65b-9219-4f9f-8387-dff96a1d70d2 button.colab-df-quickchart');\n",
              "  quickchartButtonEl.style.display =\n",
              "    google.colab.kernel.accessAllowed ? 'block' : 'none';\n",
              "}\n",
              "\n",
              "        displayQuickchartButton(document);\n",
              "      </script>\n",
              "      <style>\n",
              "    .colab-df-container {\n",
              "      display:flex;\n",
              "      flex-wrap:wrap;\n",
              "      gap: 12px;\n",
              "    }\n",
              "\n",
              "    .colab-df-convert {\n",
              "      background-color: #E8F0FE;\n",
              "      border: none;\n",
              "      border-radius: 50%;\n",
              "      cursor: pointer;\n",
              "      display: none;\n",
              "      fill: #1967D2;\n",
              "      height: 32px;\n",
              "      padding: 0 0 0 0;\n",
              "      width: 32px;\n",
              "    }\n",
              "\n",
              "    .colab-df-convert:hover {\n",
              "      background-color: #E2EBFA;\n",
              "      box-shadow: 0px 1px 2px rgba(60, 64, 67, 0.3), 0px 1px 3px 1px rgba(60, 64, 67, 0.15);\n",
              "      fill: #174EA6;\n",
              "    }\n",
              "\n",
              "    [theme=dark] .colab-df-convert {\n",
              "      background-color: #3B4455;\n",
              "      fill: #D2E3FC;\n",
              "    }\n",
              "\n",
              "    [theme=dark] .colab-df-convert:hover {\n",
              "      background-color: #434B5C;\n",
              "      box-shadow: 0px 1px 3px 1px rgba(0, 0, 0, 0.15);\n",
              "      filter: drop-shadow(0px 1px 2px rgba(0, 0, 0, 0.3));\n",
              "      fill: #FFFFFF;\n",
              "    }\n",
              "  </style>\n",
              "\n",
              "      <script>\n",
              "        const buttonEl =\n",
              "          document.querySelector('#df-d12f7678-41f6-4002-8b54-365ad43643af button.colab-df-convert');\n",
              "        buttonEl.style.display =\n",
              "          google.colab.kernel.accessAllowed ? 'block' : 'none';\n",
              "\n",
              "        async function convertToInteractive(key) {\n",
              "          const element = document.querySelector('#df-d12f7678-41f6-4002-8b54-365ad43643af');\n",
              "          const dataTable =\n",
              "            await google.colab.kernel.invokeFunction('convertToInteractive',\n",
              "                                                     [key], {});\n",
              "          if (!dataTable) return;\n",
              "\n",
              "          const docLinkHtml = 'Like what you see? Visit the ' +\n",
              "            '<a target=\"_blank\" href=https://colab.research.google.com/notebooks/data_table.ipynb>data table notebook</a>'\n",
              "            + ' to learn more about interactive tables.';\n",
              "          element.innerHTML = '';\n",
              "          dataTable['output_type'] = 'display_data';\n",
              "          await google.colab.output.renderOutput(dataTable, element);\n",
              "          const docLink = document.createElement('div');\n",
              "          docLink.innerHTML = docLinkHtml;\n",
              "          element.appendChild(docLink);\n",
              "        }\n",
              "      </script>\n",
              "    </div>\n",
              "  </div>\n"
            ]
          },
          "metadata": {},
          "execution_count": 82
        }
      ]
    },
    {
      "cell_type": "markdown",
      "source": [
        "<center><h4 id='missing'>Missing Data</h4></center>\n",
        "\n",
        "Often when working with data, some of it is missing. We must deal with that now. First, it is convenient to check the dataset to see if there is any missing data.\n",
        "\n",
        "A useful way to go through every row in a DataFrame is pandas' <a href='https://pandas.pydata.org/docs/reference/api/pandas.DataFrame.iterrows.html'>iterrows()</a> method. It iterrates through rows as tuple pairs of the index and the row.\n",
        "\n",
        "The <a href='https://pandas.pydata.org/docs/reference/api/pandas.isna.html'>isna()</a> method from pandas is also helpful here. It returns a Boolean value regarding if the input is missing or not.\n",
        "\n",
        "The below code will print any rows from the data that have missing values."
      ],
      "metadata": {
        "id": "SetPjzwXjm03"
      }
    },
    {
      "cell_type": "code",
      "source": [
        "# Checks for any missing data, and prints any rows that have missing data.\n",
        "for row in data.iterrows():\n",
        "  is_missing = False\n",
        "  for i in row[1]:\n",
        "    if pd.isna(i):\n",
        "      is_missing = True\n",
        "  if is_missing:\n",
        "    print(row)\n",
        "    print()"
      ],
      "metadata": {
        "colab": {
          "base_uri": "https://localhost:8080/"
        },
        "id": "TTHSbDmkkAye",
        "outputId": "87374815-c182-42bb-e887-bf6765ebfad2"
      },
      "execution_count": 83,
      "outputs": [
        {
          "output_type": "stream",
          "name": "stdout",
          "text": [
            "(3, country         Antarctica\n",
            "iso_code               ATA\n",
            "population             NaN\n",
            "co2                    NaN\n",
            "primary_fuel           Oil\n",
            "power                  0.0\n",
            "Name: 3, dtype: object)\n",
            "\n"
          ]
        }
      ]
    },
    {
      "cell_type": "markdown",
      "source": [
        "As you can see, the only row with missing data is Antarctica, which does not have a stable population or carbon dioxide emissions. Because of this, and because it generated no power in 2017, it can safely be removed from the dataset."
      ],
      "metadata": {
        "id": "NjAbYRcVmW40"
      }
    },
    {
      "cell_type": "code",
      "source": [
        "# Removes Antarctica from the dataset.\n",
        "data = data[data['country'] != 'Antarctica']"
      ],
      "metadata": {
        "id": "TGGB1ln4mw4W"
      },
      "execution_count": 84,
      "outputs": []
    },
    {
      "cell_type": "markdown",
      "source": [
        "<center><h3 id='eda'>Part 3: Exploratory Data Analysis</h3></center>\n",
        "\n",
        "Now that the data has been collected, cleaned, and processed, the next step in the data science pipeline is exploratory data analysis, or EDA. EDA allows the data scientist to analyze their data and its behavior to check for issues that may occur later.\n",
        "\n",
        "An interesting metric would be to see how many countries use each type of power generation. First, for convenience, we should create a list of the different sources of power. The <a href='https://pandas.pydata.org/docs/reference/api/pandas.unique.html'>unique()</a> from pandas is helpful for this purpose."
      ],
      "metadata": {
        "id": "1O22ZFDupAIL"
      }
    },
    {
      "cell_type": "code",
      "source": [
        "for each in data['primary_fuel'].unique():\n",
        "  print(each)"
      ],
      "metadata": {
        "colab": {
          "base_uri": "https://localhost:8080/"
        },
        "id": "rqIWXOdQ5n5J",
        "outputId": "225175fd-833a-4d44-a7ac-babb14ef7b5c"
      },
      "execution_count": 85,
      "outputs": [
        {
          "output_type": "stream",
          "name": "stdout",
          "text": [
            "Hydro\n",
            "Gas\n",
            "Coal\n",
            "Nuclear\n",
            "Oil\n",
            "Other\n",
            "Wind\n",
            "Biomass\n",
            "Solar\n",
            "Waste\n",
            "Geothermal\n",
            "Cogeneration\n",
            "Petcoke\n",
            "Storage\n"
          ]
        }
      ]
    },
    {
      "cell_type": "markdown",
      "source": [
        "Next, we will count how many countries use each type of power.\n",
        "Pandas can do this with the groupby() method (discussed earlier) and the <a href='https://pandas.pydata.org/docs/reference/api/pandas.DataFrame.count.html'>count()</a> method. The count method simply returns the number of non-missing cells in a row or column. This example also uses pandas' <a href='https://pandas.pydata.org/docs/reference/api/pandas.DataFrame.sort_values.html'>sort_values()</a> method, which does exactly what it sounds like, and the reset_index() method which was used earlier."
      ],
      "metadata": {
        "id": "vD13OIDX5YDK"
      }
    },
    {
      "cell_type": "code",
      "source": [
        "# Count the number of countries that use each power source, sorted in descending order.\n",
        "# Note that countries can use multiple sources of power.\n",
        "power_amounts = data.groupby('primary_fuel').count().sort_values(by=['country'], ascending=False)[['country']].reset_index(level=[0])\n",
        "# Change the column names to make sense.\n",
        "power_amounts.columns = ['power_type', 'count']\n",
        "\n",
        "# Output the table.\n",
        "power_amounts"
      ],
      "metadata": {
        "colab": {
          "base_uri": "https://localhost:8080/",
          "height": 488
        },
        "id": "KlQSMsRUr-qd",
        "outputId": "017093c7-c913-401e-b66b-f868f6e953ca"
      },
      "execution_count": 86,
      "outputs": [
        {
          "output_type": "execute_result",
          "data": {
            "text/plain": [
              "      power_type  count\n",
              "0          Hydro     63\n",
              "1            Gas     57\n",
              "2           Coal     49\n",
              "3            Oil     37\n",
              "4           Wind     33\n",
              "5          Solar     24\n",
              "6        Nuclear     16\n",
              "7        Biomass     13\n",
              "8     Geothermal     13\n",
              "9          Waste     10\n",
              "10         Other      4\n",
              "11  Cogeneration      1\n",
              "12       Petcoke      1\n",
              "13       Storage      1"
            ],
            "text/html": [
              "\n",
              "\n",
              "  <div id=\"df-62948141-d949-4a84-ab6f-07d698d42cfa\">\n",
              "    <div class=\"colab-df-container\">\n",
              "      <div>\n",
              "<style scoped>\n",
              "    .dataframe tbody tr th:only-of-type {\n",
              "        vertical-align: middle;\n",
              "    }\n",
              "\n",
              "    .dataframe tbody tr th {\n",
              "        vertical-align: top;\n",
              "    }\n",
              "\n",
              "    .dataframe thead th {\n",
              "        text-align: right;\n",
              "    }\n",
              "</style>\n",
              "<table border=\"1\" class=\"dataframe\">\n",
              "  <thead>\n",
              "    <tr style=\"text-align: right;\">\n",
              "      <th></th>\n",
              "      <th>power_type</th>\n",
              "      <th>count</th>\n",
              "    </tr>\n",
              "  </thead>\n",
              "  <tbody>\n",
              "    <tr>\n",
              "      <th>0</th>\n",
              "      <td>Hydro</td>\n",
              "      <td>63</td>\n",
              "    </tr>\n",
              "    <tr>\n",
              "      <th>1</th>\n",
              "      <td>Gas</td>\n",
              "      <td>57</td>\n",
              "    </tr>\n",
              "    <tr>\n",
              "      <th>2</th>\n",
              "      <td>Coal</td>\n",
              "      <td>49</td>\n",
              "    </tr>\n",
              "    <tr>\n",
              "      <th>3</th>\n",
              "      <td>Oil</td>\n",
              "      <td>37</td>\n",
              "    </tr>\n",
              "    <tr>\n",
              "      <th>4</th>\n",
              "      <td>Wind</td>\n",
              "      <td>33</td>\n",
              "    </tr>\n",
              "    <tr>\n",
              "      <th>5</th>\n",
              "      <td>Solar</td>\n",
              "      <td>24</td>\n",
              "    </tr>\n",
              "    <tr>\n",
              "      <th>6</th>\n",
              "      <td>Nuclear</td>\n",
              "      <td>16</td>\n",
              "    </tr>\n",
              "    <tr>\n",
              "      <th>7</th>\n",
              "      <td>Biomass</td>\n",
              "      <td>13</td>\n",
              "    </tr>\n",
              "    <tr>\n",
              "      <th>8</th>\n",
              "      <td>Geothermal</td>\n",
              "      <td>13</td>\n",
              "    </tr>\n",
              "    <tr>\n",
              "      <th>9</th>\n",
              "      <td>Waste</td>\n",
              "      <td>10</td>\n",
              "    </tr>\n",
              "    <tr>\n",
              "      <th>10</th>\n",
              "      <td>Other</td>\n",
              "      <td>4</td>\n",
              "    </tr>\n",
              "    <tr>\n",
              "      <th>11</th>\n",
              "      <td>Cogeneration</td>\n",
              "      <td>1</td>\n",
              "    </tr>\n",
              "    <tr>\n",
              "      <th>12</th>\n",
              "      <td>Petcoke</td>\n",
              "      <td>1</td>\n",
              "    </tr>\n",
              "    <tr>\n",
              "      <th>13</th>\n",
              "      <td>Storage</td>\n",
              "      <td>1</td>\n",
              "    </tr>\n",
              "  </tbody>\n",
              "</table>\n",
              "</div>\n",
              "      <button class=\"colab-df-convert\" onclick=\"convertToInteractive('df-62948141-d949-4a84-ab6f-07d698d42cfa')\"\n",
              "              title=\"Convert this dataframe to an interactive table.\"\n",
              "              style=\"display:none;\">\n",
              "\n",
              "  <svg xmlns=\"http://www.w3.org/2000/svg\" height=\"24px\"viewBox=\"0 0 24 24\"\n",
              "       width=\"24px\">\n",
              "    <path d=\"M0 0h24v24H0V0z\" fill=\"none\"/>\n",
              "    <path d=\"M18.56 5.44l.94 2.06.94-2.06 2.06-.94-2.06-.94-.94-2.06-.94 2.06-2.06.94zm-11 1L8.5 8.5l.94-2.06 2.06-.94-2.06-.94L8.5 2.5l-.94 2.06-2.06.94zm10 10l.94 2.06.94-2.06 2.06-.94-2.06-.94-.94-2.06-.94 2.06-2.06.94z\"/><path d=\"M17.41 7.96l-1.37-1.37c-.4-.4-.92-.59-1.43-.59-.52 0-1.04.2-1.43.59L10.3 9.45l-7.72 7.72c-.78.78-.78 2.05 0 2.83L4 21.41c.39.39.9.59 1.41.59.51 0 1.02-.2 1.41-.59l7.78-7.78 2.81-2.81c.8-.78.8-2.07 0-2.86zM5.41 20L4 18.59l7.72-7.72 1.47 1.35L5.41 20z\"/>\n",
              "  </svg>\n",
              "      </button>\n",
              "\n",
              "\n",
              "\n",
              "    <div id=\"df-1662d876-1e78-4895-a030-901e4b8e4e4b\">\n",
              "      <button class=\"colab-df-quickchart\" onclick=\"quickchart('df-1662d876-1e78-4895-a030-901e4b8e4e4b')\"\n",
              "              title=\"Suggest charts.\"\n",
              "              style=\"display:none;\">\n",
              "\n",
              "<svg xmlns=\"http://www.w3.org/2000/svg\" height=\"24px\"viewBox=\"0 0 24 24\"\n",
              "     width=\"24px\">\n",
              "    <g>\n",
              "        <path d=\"M19 3H5c-1.1 0-2 .9-2 2v14c0 1.1.9 2 2 2h14c1.1 0 2-.9 2-2V5c0-1.1-.9-2-2-2zM9 17H7v-7h2v7zm4 0h-2V7h2v10zm4 0h-2v-4h2v4z\"/>\n",
              "    </g>\n",
              "</svg>\n",
              "      </button>\n",
              "    </div>\n",
              "\n",
              "<style>\n",
              "  .colab-df-quickchart {\n",
              "    background-color: #E8F0FE;\n",
              "    border: none;\n",
              "    border-radius: 50%;\n",
              "    cursor: pointer;\n",
              "    display: none;\n",
              "    fill: #1967D2;\n",
              "    height: 32px;\n",
              "    padding: 0 0 0 0;\n",
              "    width: 32px;\n",
              "  }\n",
              "\n",
              "  .colab-df-quickchart:hover {\n",
              "    background-color: #E2EBFA;\n",
              "    box-shadow: 0px 1px 2px rgba(60, 64, 67, 0.3), 0px 1px 3px 1px rgba(60, 64, 67, 0.15);\n",
              "    fill: #174EA6;\n",
              "  }\n",
              "\n",
              "  [theme=dark] .colab-df-quickchart {\n",
              "    background-color: #3B4455;\n",
              "    fill: #D2E3FC;\n",
              "  }\n",
              "\n",
              "  [theme=dark] .colab-df-quickchart:hover {\n",
              "    background-color: #434B5C;\n",
              "    box-shadow: 0px 1px 3px 1px rgba(0, 0, 0, 0.15);\n",
              "    filter: drop-shadow(0px 1px 2px rgba(0, 0, 0, 0.3));\n",
              "    fill: #FFFFFF;\n",
              "  }\n",
              "</style>\n",
              "\n",
              "    <script>\n",
              "      async function quickchart(key) {\n",
              "        const containerElement = document.querySelector('#' + key);\n",
              "        const charts = await google.colab.kernel.invokeFunction(\n",
              "            'suggestCharts', [key], {});\n",
              "      }\n",
              "    </script>\n",
              "\n",
              "      <script>\n",
              "\n",
              "function displayQuickchartButton(domScope) {\n",
              "  let quickchartButtonEl =\n",
              "    domScope.querySelector('#df-1662d876-1e78-4895-a030-901e4b8e4e4b button.colab-df-quickchart');\n",
              "  quickchartButtonEl.style.display =\n",
              "    google.colab.kernel.accessAllowed ? 'block' : 'none';\n",
              "}\n",
              "\n",
              "        displayQuickchartButton(document);\n",
              "      </script>\n",
              "      <style>\n",
              "    .colab-df-container {\n",
              "      display:flex;\n",
              "      flex-wrap:wrap;\n",
              "      gap: 12px;\n",
              "    }\n",
              "\n",
              "    .colab-df-convert {\n",
              "      background-color: #E8F0FE;\n",
              "      border: none;\n",
              "      border-radius: 50%;\n",
              "      cursor: pointer;\n",
              "      display: none;\n",
              "      fill: #1967D2;\n",
              "      height: 32px;\n",
              "      padding: 0 0 0 0;\n",
              "      width: 32px;\n",
              "    }\n",
              "\n",
              "    .colab-df-convert:hover {\n",
              "      background-color: #E2EBFA;\n",
              "      box-shadow: 0px 1px 2px rgba(60, 64, 67, 0.3), 0px 1px 3px 1px rgba(60, 64, 67, 0.15);\n",
              "      fill: #174EA6;\n",
              "    }\n",
              "\n",
              "    [theme=dark] .colab-df-convert {\n",
              "      background-color: #3B4455;\n",
              "      fill: #D2E3FC;\n",
              "    }\n",
              "\n",
              "    [theme=dark] .colab-df-convert:hover {\n",
              "      background-color: #434B5C;\n",
              "      box-shadow: 0px 1px 3px 1px rgba(0, 0, 0, 0.15);\n",
              "      filter: drop-shadow(0px 1px 2px rgba(0, 0, 0, 0.3));\n",
              "      fill: #FFFFFF;\n",
              "    }\n",
              "  </style>\n",
              "\n",
              "      <script>\n",
              "        const buttonEl =\n",
              "          document.querySelector('#df-62948141-d949-4a84-ab6f-07d698d42cfa button.colab-df-convert');\n",
              "        buttonEl.style.display =\n",
              "          google.colab.kernel.accessAllowed ? 'block' : 'none';\n",
              "\n",
              "        async function convertToInteractive(key) {\n",
              "          const element = document.querySelector('#df-62948141-d949-4a84-ab6f-07d698d42cfa');\n",
              "          const dataTable =\n",
              "            await google.colab.kernel.invokeFunction('convertToInteractive',\n",
              "                                                     [key], {});\n",
              "          if (!dataTable) return;\n",
              "\n",
              "          const docLinkHtml = 'Like what you see? Visit the ' +\n",
              "            '<a target=\"_blank\" href=https://colab.research.google.com/notebooks/data_table.ipynb>data table notebook</a>'\n",
              "            + ' to learn more about interactive tables.';\n",
              "          element.innerHTML = '';\n",
              "          dataTable['output_type'] = 'display_data';\n",
              "          await google.colab.output.renderOutput(dataTable, element);\n",
              "          const docLink = document.createElement('div');\n",
              "          docLink.innerHTML = docLinkHtml;\n",
              "          element.appendChild(docLink);\n",
              "        }\n",
              "      </script>\n",
              "    </div>\n",
              "  </div>\n"
            ]
          },
          "metadata": {},
          "execution_count": 86
        }
      ]
    },
    {
      "cell_type": "markdown",
      "source": [
        "In addition to as a table, this data can also be presented as a graph for ease of visualization using the <a href='https://matplotlib.org/stable/tutorials/introductory/pyplot.html'>matplotlib.pyplot</a> library. This library contains powerful tools to visualize data.\n",
        "\n",
        "This code will create and show a bar graph of the above data, using pyplot's <a href='https://matplotlib.org/stable/api/_as_gen/matplotlib.pyplot.bar.html'>bar()</a> method.\n",
        "\n",
        "Matplotlib also has several methods used for formatting, including the <a href='https://matplotlib.org/stable/api/_as_gen/matplotlib.pyplot.title.html'>title()</a>, <a href='https://matplotlib.org/stable/api/_as_gen/matplotlib.pyplot.xlabel.html'>xlabel()</a>, <a href='https://matplotlib.org/stable/api/_as_gen/matplotlib.pyplot.xticks.html'>xticks()</a>, and <a href='https://matplotlib.org/stable/api/_as_gen/matplotlib.pyplot.ylabel.html'>ylabel()</a> methods.\n",
        "\n",
        "Finally, the <a href='https://matplotlib.org/stable/api/_as_gen/matplotlib.pyplot.show.html'>show()</a> method is used to output the graph."
      ],
      "metadata": {
        "id": "-OiGwb0xtn74"
      }
    },
    {
      "cell_type": "code",
      "source": [
        "# Create a bar graph of the data for prevalence of fuel types.\n",
        "plt.bar(power_amounts['power_type'], power_amounts['count'])\n",
        "\n",
        "# Format the resulting bar graph.\n",
        "plt.title('Count of Power Sources') # Changes the title of the graph.\n",
        "plt.xlabel('Power Type') # Changes the label on the x-axis.\n",
        "plt.xticks(rotation = 45) # Rotates the bar labels to improve readability.\n",
        "plt.ylabel('Count') # Changes the label on the y-axis.\n",
        "\n",
        "# Show the graph.\n",
        "plt.show()"
      ],
      "metadata": {
        "colab": {
          "base_uri": "https://localhost:8080/",
          "height": 534
        },
        "id": "om7grYR2ujcj",
        "outputId": "d2ed92cb-077a-4692-9905-e347d5eb2c77"
      },
      "execution_count": 87,
      "outputs": [
        {
          "output_type": "display_data",
          "data": {
            "text/plain": [
              "<Figure size 640x480 with 1 Axes>"
            ],
            "image/png": "[encoded data removed]"
          },
          "metadata": {}
        }
      ]
    },
    {
      "cell_type": "markdown",
      "source": [
        "Interestingly, hydroelectric power is the most common individual type, although fossil fuels (gas, coal, and oil) as a group are much more prevalent.\n",
        "\n",
        "Now, we will rank the power sources by total power generated, then create a graph in the same way as before."
      ],
      "metadata": {
        "id": "z-LtjQmWxQ9A"
      }
    },
    {
      "cell_type": "code",
      "source": [
        "# Get the amount of power generated by each power type.\n",
        "power_generated = data.groupby(['primary_fuel']).sum(numeric_only=True).sort_values(by=['power'], ascending=False).reset_index([0])\n",
        "power_generated = power_generated[['primary_fuel', 'power']]\n",
        "power_generated.columns = ['power_type', 'power']"
      ],
      "metadata": {
        "id": "8cUEgGon9vK7"
      },
      "execution_count": 88,
      "outputs": []
    },
    {
      "cell_type": "code",
      "source": [
        "# Create a bar graph of the data for power of fuel types.\n",
        "plt.bar(power_generated['power_type'], power_generated['power'])\n",
        "\n",
        "# Format the resulting bar graph.\n",
        "plt.title('Power Generated by Source') # Changes the title of the graph.\n",
        "plt.xlabel('Power Type') # Changes the label on the x-axis.\n",
        "plt.xticks(rotation = 45) # Rotates the bar labels to improve readability.\n",
        "plt.ylabel('Power (GWh)') # Changes the label on the y-axis.\n",
        "\n",
        "# Show the graph.\n",
        "plt.show()"
      ],
      "metadata": {
        "colab": {
          "base_uri": "https://localhost:8080/",
          "height": 534
        },
        "id": "5aiddkgC_oN_",
        "outputId": "17c4197b-6ba9-49ec-9773-640d7540e5d6"
      },
      "execution_count": 89,
      "outputs": [
        {
          "output_type": "display_data",
          "data": {
            "text/plain": [
              "<Figure size 640x480 with 1 Axes>"
            ],
            "image/png": "[encoded data removed]"
          },
          "metadata": {}
        }
      ]
    },
    {
      "cell_type": "markdown",
      "source": [
        "As expected, fossil fuels, specifically coal, generate the vast majority of the world's power, despite not having the most power plants."
      ],
      "metadata": {
        "id": "uqlthivZ__rQ"
      }
    },
    {
      "cell_type": "markdown",
      "source": [
        "Another interesting statistic would be to rank each country by carbon dioxide emissions. This can be done in a similar way to the previous graphs. The <a href='https://pandas.pydata.org/docs/reference/api/pandas.DataFrame.drop_duplicates.html'>drop_duplicates()</a> method from pandas is used to get the accurate emissions levels for each country.\n",
        "\n",
        "<br>\n",
        "\n",
        "To improve the readability of the graph, only the top 10 countries are graphed."
      ],
      "metadata": {
        "id": "_A0W6Me7AdXH"
      }
    },
    {
      "cell_type": "code",
      "source": [
        "# Rank each country by CO2 emissions per capita.\n",
        "co2_emissions = data.drop_duplicates(['country']).groupby(['country']).sum(numeric_only=True).sort_values(by=['co2'], ascending=False)\n",
        "co2_emissions = co2_emissions.reset_index([0])[['country', 'co2']]\n",
        "# Create a bar graph of CO2 emissions.\n",
        "plt.bar(co2_emissions['country'][:10], co2_emissions['co2'][:10])\n",
        "\n",
        "# Format the resulting bar graph.\n",
        "plt.title('CO2 Emissions by Country') # Changes the title of the graph.\n",
        "plt.xlabel('Country') # Changes the label on the x-axis.\n",
        "plt.xticks(rotation = 45) # Rotates the bar labels to improve readability.\n",
        "plt.ylabel('CO2 Emissions') # Changes the label on the y-axis.\n",
        "\n",
        "# Show the graph.\n",
        "plt.show()"
      ],
      "metadata": {
        "colab": {
          "base_uri": "https://localhost:8080/",
          "height": 534
        },
        "id": "oML8qWNiAuT9",
        "outputId": "b82a93c3-7024-4f7c-8dd6-c5cfc08e3701"
      },
      "execution_count": 90,
      "outputs": [
        {
          "output_type": "display_data",
          "data": {
            "text/plain": [
              "<Figure size 640x480 with 1 Axes>"
            ],
            "image/png": "[encoded data removed]"
          },
          "metadata": {}
        }
      ]
    },
    {
      "cell_type": "markdown",
      "source": [
        "As expected, China, the United States, and India are the top carbon dioxide emitters, simply by virtue of their large populations."
      ],
      "metadata": {
        "id": "GWxyNoKQEqFd"
      }
    },
    {
      "cell_type": "markdown",
      "source": [
        "<center><h3 id='learning'>Part 4: Machine Learning</h3></center>\n",
        "\n",
        "During this phase of the data science pipeline, various methods are used to generate a model of the data. For this project, we will use linear regression to model the world's power generation against its carbon emissions.\n",
        "\n",
        "Linear regression is the process of finding a line that best matches the available data. A common way of calculating this line is the least squares method, which aims to minimize the square of the differences between each point and the line."
      ],
      "metadata": {
        "id": "36nscGghIslA"
      }
    },
    {
      "cell_type": "markdown",
      "source": [
        "For convenience, we will now condence the separate power types into a singular measure of power generated, using pandas' <a href='https://pandas.pydata.org/docs/reference/api/pandas.DataFrame.copy.html'>copy()</a> method to do so."
      ],
      "metadata": {
        "id": "ufYpqgkQM3dn"
      }
    },
    {
      "cell_type": "code",
      "source": [
        "# Make a deep copy of the data, then combine the different power types into a single column called total_power.\n",
        "combined_data = data.copy(deep=True)\n",
        "combined_data = combined_data.drop(['primary_fuel'], axis='columns')\n",
        "combined_data = data.groupby(['country', 'iso_code']).sum(numeric_only=True).reset_index([0, 1])\n",
        "combined_data = combined_data.rename({'power': 'total_power'}, axis='columns')\n",
        "\n",
        "# Show the reformatted data.\n",
        "combined_data.head()"
      ],
      "metadata": {
        "colab": {
          "base_uri": "https://localhost:8080/",
          "height": 206
        },
        "id": "7e9B1OEKM2_P",
        "outputId": "7cc38eee-f71e-4ca3-ca26-8b96135f019f"
      },
      "execution_count": 91,
      "outputs": [
        {
          "output_type": "execute_result",
          "data": {
            "text/plain": [
              "     country iso_code   population       co2  total_power\n",
              "0    Albania      ALB    2879361.0     5.564      4608.91\n",
              "1    Algeria      DZA   82273096.0   332.822     39898.78\n",
              "2  Argentina      ARG  264327696.0  1121.394    111215.84\n",
              "3    Armenia      ARM    8555787.0    16.620      4631.30\n",
              "4    Austria      AUT   26392491.0   208.779     34281.80"
            ],
            "text/html": [
              "\n",
              "\n",
              "  <div id=\"df-027a0e3d-3698-4da5-8ec0-ca7fd5e03012\">\n",
              "    <div class=\"colab-df-container\">\n",
              "      <div>\n",
              "<style scoped>\n",
              "    .dataframe tbody tr th:only-of-type {\n",
              "        vertical-align: middle;\n",
              "    }\n",
              "\n",
              "    .dataframe tbody tr th {\n",
              "        vertical-align: top;\n",
              "    }\n",
              "\n",
              "    .dataframe thead th {\n",
              "        text-align: right;\n",
              "    }\n",
              "</style>\n",
              "<table border=\"1\" class=\"dataframe\">\n",
              "  <thead>\n",
              "    <tr style=\"text-align: right;\">\n",
              "      <th></th>\n",
              "      <th>country</th>\n",
              "      <th>iso_code</th>\n",
              "      <th>population</th>\n",
              "      <th>co2</th>\n",
              "      <th>total_power</th>\n",
              "    </tr>\n",
              "  </thead>\n",
              "  <tbody>\n",
              "    <tr>\n",
              "      <th>0</th>\n",
              "      <td>Albania</td>\n",
              "      <td>ALB</td>\n",
              "      <td>2879361.0</td>\n",
              "      <td>5.564</td>\n",
              "      <td>4608.91</td>\n",
              "    </tr>\n",
              "    <tr>\n",
              "      <th>1</th>\n",
              "      <td>Algeria</td>\n",
              "      <td>DZA</td>\n",
              "      <td>82273096.0</td>\n",
              "      <td>332.822</td>\n",
              "      <td>39898.78</td>\n",
              "    </tr>\n",
              "    <tr>\n",
              "      <th>2</th>\n",
              "      <td>Argentina</td>\n",
              "      <td>ARG</td>\n",
              "      <td>264327696.0</td>\n",
              "      <td>1121.394</td>\n",
              "      <td>111215.84</td>\n",
              "    </tr>\n",
              "    <tr>\n",
              "      <th>3</th>\n",
              "      <td>Armenia</td>\n",
              "      <td>ARM</td>\n",
              "      <td>8555787.0</td>\n",
              "      <td>16.620</td>\n",
              "      <td>4631.30</td>\n",
              "    </tr>\n",
              "    <tr>\n",
              "      <th>4</th>\n",
              "      <td>Austria</td>\n",
              "      <td>AUT</td>\n",
              "      <td>26392491.0</td>\n",
              "      <td>208.779</td>\n",
              "      <td>34281.80</td>\n",
              "    </tr>\n",
              "  </tbody>\n",
              "</table>\n",
              "</div>\n",
              "      <button class=\"colab-df-convert\" onclick=\"convertToInteractive('df-027a0e3d-3698-4da5-8ec0-ca7fd5e03012')\"\n",
              "              title=\"Convert this dataframe to an interactive table.\"\n",
              "              style=\"display:none;\">\n",
              "\n",
              "  <svg xmlns=\"http://www.w3.org/2000/svg\" height=\"24px\"viewBox=\"0 0 24 24\"\n",
              "       width=\"24px\">\n",
              "    <path d=\"M0 0h24v24H0V0z\" fill=\"none\"/>\n",
              "    <path d=\"M18.56 5.44l.94 2.06.94-2.06 2.06-.94-2.06-.94-.94-2.06-.94 2.06-2.06.94zm-11 1L8.5 8.5l.94-2.06 2.06-.94-2.06-.94L8.5 2.5l-.94 2.06-2.06.94zm10 10l.94 2.06.94-2.06 2.06-.94-2.06-.94-.94-2.06-.94 2.06-2.06.94z\"/><path d=\"M17.41 7.96l-1.37-1.37c-.4-.4-.92-.59-1.43-.59-.52 0-1.04.2-1.43.59L10.3 9.45l-7.72 7.72c-.78.78-.78 2.05 0 2.83L4 21.41c.39.39.9.59 1.41.59.51 0 1.02-.2 1.41-.59l7.78-7.78 2.81-2.81c.8-.78.8-2.07 0-2.86zM5.41 20L4 18.59l7.72-7.72 1.47 1.35L5.41 20z\"/>\n",
              "  </svg>\n",
              "      </button>\n",
              "\n",
              "\n",
              "\n",
              "    <div id=\"df-aafd96d7-1c87-4b88-9ec1-8ebbbc1b8d78\">\n",
              "      <button class=\"colab-df-quickchart\" onclick=\"quickchart('df-aafd96d7-1c87-4b88-9ec1-8ebbbc1b8d78')\"\n",
              "              title=\"Suggest charts.\"\n",
              "              style=\"display:none;\">\n",
              "\n",
              "<svg xmlns=\"http://www.w3.org/2000/svg\" height=\"24px\"viewBox=\"0 0 24 24\"\n",
              "     width=\"24px\">\n",
              "    <g>\n",
              "        <path d=\"M19 3H5c-1.1 0-2 .9-2 2v14c0 1.1.9 2 2 2h14c1.1 0 2-.9 2-2V5c0-1.1-.9-2-2-2zM9 17H7v-7h2v7zm4 0h-2V7h2v10zm4 0h-2v-4h2v4z\"/>\n",
              "    </g>\n",
              "</svg>\n",
              "      </button>\n",
              "    </div>\n",
              "\n",
              "<style>\n",
              "  .colab-df-quickchart {\n",
              "    background-color: #E8F0FE;\n",
              "    border: none;\n",
              "    border-radius: 50%;\n",
              "    cursor: pointer;\n",
              "    display: none;\n",
              "    fill: #1967D2;\n",
              "    height: 32px;\n",
              "    padding: 0 0 0 0;\n",
              "    width: 32px;\n",
              "  }\n",
              "\n",
              "  .colab-df-quickchart:hover {\n",
              "    background-color: #E2EBFA;\n",
              "    box-shadow: 0px 1px 2px rgba(60, 64, 67, 0.3), 0px 1px 3px 1px rgba(60, 64, 67, 0.15);\n",
              "    fill: #174EA6;\n",
              "  }\n",
              "\n",
              "  [theme=dark] .colab-df-quickchart {\n",
              "    background-color: #3B4455;\n",
              "    fill: #D2E3FC;\n",
              "  }\n",
              "\n",
              "  [theme=dark] .colab-df-quickchart:hover {\n",
              "    background-color: #434B5C;\n",
              "    box-shadow: 0px 1px 3px 1px rgba(0, 0, 0, 0.15);\n",
              "    filter: drop-shadow(0px 1px 2px rgba(0, 0, 0, 0.3));\n",
              "    fill: #FFFFFF;\n",
              "  }\n",
              "</style>\n",
              "\n",
              "    <script>\n",
              "      async function quickchart(key) {\n",
              "        const containerElement = document.querySelector('#' + key);\n",
              "        const charts = await google.colab.kernel.invokeFunction(\n",
              "            'suggestCharts', [key], {});\n",
              "      }\n",
              "    </script>\n",
              "\n",
              "      <script>\n",
              "\n",
              "function displayQuickchartButton(domScope) {\n",
              "  let quickchartButtonEl =\n",
              "    domScope.querySelector('#df-aafd96d7-1c87-4b88-9ec1-8ebbbc1b8d78 button.colab-df-quickchart');\n",
              "  quickchartButtonEl.style.display =\n",
              "    google.colab.kernel.accessAllowed ? 'block' : 'none';\n",
              "}\n",
              "\n",
              "        displayQuickchartButton(document);\n",
              "      </script>\n",
              "      <style>\n",
              "    .colab-df-container {\n",
              "      display:flex;\n",
              "      flex-wrap:wrap;\n",
              "      gap: 12px;\n",
              "    }\n",
              "\n",
              "    .colab-df-convert {\n",
              "      background-color: #E8F0FE;\n",
              "      border: none;\n",
              "      border-radius: 50%;\n",
              "      cursor: pointer;\n",
              "      display: none;\n",
              "      fill: #1967D2;\n",
              "      height: 32px;\n",
              "      padding: 0 0 0 0;\n",
              "      width: 32px;\n",
              "    }\n",
              "\n",
              "    .colab-df-convert:hover {\n",
              "      background-color: #E2EBFA;\n",
              "      box-shadow: 0px 1px 2px rgba(60, 64, 67, 0.3), 0px 1px 3px 1px rgba(60, 64, 67, 0.15);\n",
              "      fill: #174EA6;\n",
              "    }\n",
              "\n",
              "    [theme=dark] .colab-df-convert {\n",
              "      background-color: #3B4455;\n",
              "      fill: #D2E3FC;\n",
              "    }\n",
              "\n",
              "    [theme=dark] .colab-df-convert:hover {\n",
              "      background-color: #434B5C;\n",
              "      box-shadow: 0px 1px 3px 1px rgba(0, 0, 0, 0.15);\n",
              "      filter: drop-shadow(0px 1px 2px rgba(0, 0, 0, 0.3));\n",
              "      fill: #FFFFFF;\n",
              "    }\n",
              "  </style>\n",
              "\n",
              "      <script>\n",
              "        const buttonEl =\n",
              "          document.querySelector('#df-027a0e3d-3698-4da5-8ec0-ca7fd5e03012 button.colab-df-convert');\n",
              "        buttonEl.style.display =\n",
              "          google.colab.kernel.accessAllowed ? 'block' : 'none';\n",
              "\n",
              "        async function convertToInteractive(key) {\n",
              "          const element = document.querySelector('#df-027a0e3d-3698-4da5-8ec0-ca7fd5e03012');\n",
              "          const dataTable =\n",
              "            await google.colab.kernel.invokeFunction('convertToInteractive',\n",
              "                                                     [key], {});\n",
              "          if (!dataTable) return;\n",
              "\n",
              "          const docLinkHtml = 'Like what you see? Visit the ' +\n",
              "            '<a target=\"_blank\" href=https://colab.research.google.com/notebooks/data_table.ipynb>data table notebook</a>'\n",
              "            + ' to learn more about interactive tables.';\n",
              "          element.innerHTML = '';\n",
              "          dataTable['output_type'] = 'display_data';\n",
              "          await google.colab.output.renderOutput(dataTable, element);\n",
              "          const docLink = document.createElement('div');\n",
              "          docLink.innerHTML = docLinkHtml;\n",
              "          element.appendChild(docLink);\n",
              "        }\n",
              "      </script>\n",
              "    </div>\n",
              "  </div>\n"
            ]
          },
          "metadata": {},
          "execution_count": 91
        }
      ]
    },
    {
      "cell_type": "markdown",
      "source": [
        "Before we begin the process of linear regression, we must standardize our data by subtracting the mean, then dividing by the standard deviation. This is done to equalize the impact of each variable, so that no single variable has undue bias on the results.\n",
        "\n",
        "We will use NumPy's <a href='https://numpy.org/doc/stable/reference/generated/numpy.mean.html'>mean()</a> and <a href='https://numpy.org/doc/stable/reference/generated/numpy.std.html'>std()</a> methods for this."
      ],
      "metadata": {
        "id": "EzSAVdbwLq9A"
      }
    },
    {
      "cell_type": "code",
      "source": [
        "# Standardize the power generation and CO2 emissions columns.\n",
        "standard_data = combined_data.copy(deep=True)\n",
        "standard_data['co2'] = (standard_data['co2'] - np.mean(standard_data['co2'])) / np.std(standard_data['co2'])\n",
        "standard_data['total_power'] = (standard_data['total_power'] - np.mean(standard_data['total_power'])) / np.std(standard_data['total_power'])\n",
        "\n",
        "# Show the standardized data.\n",
        "standard_data.head()"
      ],
      "metadata": {
        "colab": {
          "base_uri": "https://localhost:8080/",
          "height": 206
        },
        "id": "149zyUm1L-4Y",
        "outputId": "2fadc013-ae71-44c8-e323-eb844603e721"
      },
      "execution_count": 92,
      "outputs": [
        {
          "output_type": "execute_result",
          "data": {
            "text/plain": [
              "     country iso_code   population       co2  total_power\n",
              "0    Albania      ALB    2879361.0 -0.242321    -0.233495\n",
              "1    Algeria      DZA   82273096.0 -0.209040    -0.184069\n",
              "2  Argentina      ARG  264327696.0 -0.128843    -0.084186\n",
              "3    Armenia      ARM    8555787.0 -0.241197    -0.233463\n",
              "4    Austria      AUT   26392491.0 -0.221655    -0.191936"
            ],
            "text/html": [
              "\n",
              "\n",
              "  <div id=\"df-d4930323-89c3-44a2-84a5-f99c36d61ef7\">\n",
              "    <div class=\"colab-df-container\">\n",
              "      <div>\n",
              "<style scoped>\n",
              "    .dataframe tbody tr th:only-of-type {\n",
              "        vertical-align: middle;\n",
              "    }\n",
              "\n",
              "    .dataframe tbody tr th {\n",
              "        vertical-align: top;\n",
              "    }\n",
              "\n",
              "    .dataframe thead th {\n",
              "        text-align: right;\n",
              "    }\n",
              "</style>\n",
              "<table border=\"1\" class=\"dataframe\">\n",
              "  <thead>\n",
              "    <tr style=\"text-align: right;\">\n",
              "      <th></th>\n",
              "      <th>country</th>\n",
              "      <th>iso_code</th>\n",
              "      <th>population</th>\n",
              "      <th>co2</th>\n",
              "      <th>total_power</th>\n",
              "    </tr>\n",
              "  </thead>\n",
              "  <tbody>\n",
              "    <tr>\n",
              "      <th>0</th>\n",
              "      <td>Albania</td>\n",
              "      <td>ALB</td>\n",
              "      <td>2879361.0</td>\n",
              "      <td>-0.242321</td>\n",
              "      <td>-0.233495</td>\n",
              "    </tr>\n",
              "    <tr>\n",
              "      <th>1</th>\n",
              "      <td>Algeria</td>\n",
              "      <td>DZA</td>\n",
              "      <td>82273096.0</td>\n",
              "      <td>-0.209040</td>\n",
              "      <td>-0.184069</td>\n",
              "    </tr>\n",
              "    <tr>\n",
              "      <th>2</th>\n",
              "      <td>Argentina</td>\n",
              "      <td>ARG</td>\n",
              "      <td>264327696.0</td>\n",
              "      <td>-0.128843</td>\n",
              "      <td>-0.084186</td>\n",
              "    </tr>\n",
              "    <tr>\n",
              "      <th>3</th>\n",
              "      <td>Armenia</td>\n",
              "      <td>ARM</td>\n",
              "      <td>8555787.0</td>\n",
              "      <td>-0.241197</td>\n",
              "      <td>-0.233463</td>\n",
              "    </tr>\n",
              "    <tr>\n",
              "      <th>4</th>\n",
              "      <td>Austria</td>\n",
              "      <td>AUT</td>\n",
              "      <td>26392491.0</td>\n",
              "      <td>-0.221655</td>\n",
              "      <td>-0.191936</td>\n",
              "    </tr>\n",
              "  </tbody>\n",
              "</table>\n",
              "</div>\n",
              "      <button class=\"colab-df-convert\" onclick=\"convertToInteractive('df-d4930323-89c3-44a2-84a5-f99c36d61ef7')\"\n",
              "              title=\"Convert this dataframe to an interactive table.\"\n",
              "              style=\"display:none;\">\n",
              "\n",
              "  <svg xmlns=\"http://www.w3.org/2000/svg\" height=\"24px\"viewBox=\"0 0 24 24\"\n",
              "       width=\"24px\">\n",
              "    <path d=\"M0 0h24v24H0V0z\" fill=\"none\"/>\n",
              "    <path d=\"M18.56 5.44l.94 2.06.94-2.06 2.06-.94-2.06-.94-.94-2.06-.94 2.06-2.06.94zm-11 1L8.5 8.5l.94-2.06 2.06-.94-2.06-.94L8.5 2.5l-.94 2.06-2.06.94zm10 10l.94 2.06.94-2.06 2.06-.94-2.06-.94-.94-2.06-.94 2.06-2.06.94z\"/><path d=\"M17.41 7.96l-1.37-1.37c-.4-.4-.92-.59-1.43-.59-.52 0-1.04.2-1.43.59L10.3 9.45l-7.72 7.72c-.78.78-.78 2.05 0 2.83L4 21.41c.39.39.9.59 1.41.59.51 0 1.02-.2 1.41-.59l7.78-7.78 2.81-2.81c.8-.78.8-2.07 0-2.86zM5.41 20L4 18.59l7.72-7.72 1.47 1.35L5.41 20z\"/>\n",
              "  </svg>\n",
              "      </button>\n",
              "\n",
              "\n",
              "\n",
              "    <div id=\"df-c22dd05a-1f83-4419-a377-51a9182f40d9\">\n",
              "      <button class=\"colab-df-quickchart\" onclick=\"quickchart('df-c22dd05a-1f83-4419-a377-51a9182f40d9')\"\n",
              "              title=\"Suggest charts.\"\n",
              "              style=\"display:none;\">\n",
              "\n",
              "<svg xmlns=\"http://www.w3.org/2000/svg\" height=\"24px\"viewBox=\"0 0 24 24\"\n",
              "     width=\"24px\">\n",
              "    <g>\n",
              "        <path d=\"M19 3H5c-1.1 0-2 .9-2 2v14c0 1.1.9 2 2 2h14c1.1 0 2-.9 2-2V5c0-1.1-.9-2-2-2zM9 17H7v-7h2v7zm4 0h-2V7h2v10zm4 0h-2v-4h2v4z\"/>\n",
              "    </g>\n",
              "</svg>\n",
              "      </button>\n",
              "    </div>\n",
              "\n",
              "<style>\n",
              "  .colab-df-quickchart {\n",
              "    background-color: #E8F0FE;\n",
              "    border: none;\n",
              "    border-radius: 50%;\n",
              "    cursor: pointer;\n",
              "    display: none;\n",
              "    fill: #1967D2;\n",
              "    height: 32px;\n",
              "    padding: 0 0 0 0;\n",
              "    width: 32px;\n",
              "  }\n",
              "\n",
              "  .colab-df-quickchart:hover {\n",
              "    background-color: #E2EBFA;\n",
              "    box-shadow: 0px 1px 2px rgba(60, 64, 67, 0.3), 0px 1px 3px 1px rgba(60, 64, 67, 0.15);\n",
              "    fill: #174EA6;\n",
              "  }\n",
              "\n",
              "  [theme=dark] .colab-df-quickchart {\n",
              "    background-color: #3B4455;\n",
              "    fill: #D2E3FC;\n",
              "  }\n",
              "\n",
              "  [theme=dark] .colab-df-quickchart:hover {\n",
              "    background-color: #434B5C;\n",
              "    box-shadow: 0px 1px 3px 1px rgba(0, 0, 0, 0.15);\n",
              "    filter: drop-shadow(0px 1px 2px rgba(0, 0, 0, 0.3));\n",
              "    fill: #FFFFFF;\n",
              "  }\n",
              "</style>\n",
              "\n",
              "    <script>\n",
              "      async function quickchart(key) {\n",
              "        const containerElement = document.querySelector('#' + key);\n",
              "        const charts = await google.colab.kernel.invokeFunction(\n",
              "            'suggestCharts', [key], {});\n",
              "      }\n",
              "    </script>\n",
              "\n",
              "      <script>\n",
              "\n",
              "function displayQuickchartButton(domScope) {\n",
              "  let quickchartButtonEl =\n",
              "    domScope.querySelector('#df-c22dd05a-1f83-4419-a377-51a9182f40d9 button.colab-df-quickchart');\n",
              "  quickchartButtonEl.style.display =\n",
              "    google.colab.kernel.accessAllowed ? 'block' : 'none';\n",
              "}\n",
              "\n",
              "        displayQuickchartButton(document);\n",
              "      </script>\n",
              "      <style>\n",
              "    .colab-df-container {\n",
              "      display:flex;\n",
              "      flex-wrap:wrap;\n",
              "      gap: 12px;\n",
              "    }\n",
              "\n",
              "    .colab-df-convert {\n",
              "      background-color: #E8F0FE;\n",
              "      border: none;\n",
              "      border-radius: 50%;\n",
              "      cursor: pointer;\n",
              "      display: none;\n",
              "      fill: #1967D2;\n",
              "      height: 32px;\n",
              "      padding: 0 0 0 0;\n",
              "      width: 32px;\n",
              "    }\n",
              "\n",
              "    .colab-df-convert:hover {\n",
              "      background-color: #E2EBFA;\n",
              "      box-shadow: 0px 1px 2px rgba(60, 64, 67, 0.3), 0px 1px 3px 1px rgba(60, 64, 67, 0.15);\n",
              "      fill: #174EA6;\n",
              "    }\n",
              "\n",
              "    [theme=dark] .colab-df-convert {\n",
              "      background-color: #3B4455;\n",
              "      fill: #D2E3FC;\n",
              "    }\n",
              "\n",
              "    [theme=dark] .colab-df-convert:hover {\n",
              "      background-color: #434B5C;\n",
              "      box-shadow: 0px 1px 3px 1px rgba(0, 0, 0, 0.15);\n",
              "      filter: drop-shadow(0px 1px 2px rgba(0, 0, 0, 0.3));\n",
              "      fill: #FFFFFF;\n",
              "    }\n",
              "  </style>\n",
              "\n",
              "      <script>\n",
              "        const buttonEl =\n",
              "          document.querySelector('#df-d4930323-89c3-44a2-84a5-f99c36d61ef7 button.colab-df-convert');\n",
              "        buttonEl.style.display =\n",
              "          google.colab.kernel.accessAllowed ? 'block' : 'none';\n",
              "\n",
              "        async function convertToInteractive(key) {\n",
              "          const element = document.querySelector('#df-d4930323-89c3-44a2-84a5-f99c36d61ef7');\n",
              "          const dataTable =\n",
              "            await google.colab.kernel.invokeFunction('convertToInteractive',\n",
              "                                                     [key], {});\n",
              "          if (!dataTable) return;\n",
              "\n",
              "          const docLinkHtml = 'Like what you see? Visit the ' +\n",
              "            '<a target=\"_blank\" href=https://colab.research.google.com/notebooks/data_table.ipynb>data table notebook</a>'\n",
              "            + ' to learn more about interactive tables.';\n",
              "          element.innerHTML = '';\n",
              "          dataTable['output_type'] = 'display_data';\n",
              "          await google.colab.output.renderOutput(dataTable, element);\n",
              "          const docLink = document.createElement('div');\n",
              "          docLink.innerHTML = docLinkHtml;\n",
              "          element.appendChild(docLink);\n",
              "        }\n",
              "      </script>\n",
              "    </div>\n",
              "  </div>\n"
            ]
          },
          "metadata": {},
          "execution_count": 92
        }
      ]
    },
    {
      "cell_type": "markdown",
      "source": [
        "Before performing linear regression, we must have a plot of data to use.\n",
        "We will use matplotlib.pyplot's <a href='https://matplotlib.org/stable/api/_as_gen/matplotlib.pyplot.scatter.html'>scatter()</a> method to create a scatterplot of power generation against carbon dioxide emissions.\n",
        "\n",
        "Formatting is done using the same methods as with the bar graphs from earlier."
      ],
      "metadata": {
        "id": "ZYOOld3GQBJ0"
      }
    },
    {
      "cell_type": "code",
      "source": [
        "# Use matplotlib.pyplot.scatter() to create a scatterplot.\n",
        "plt.scatter(standard_data['total_power'], standard_data['co2'])\n",
        "# Format the scatterplot.\n",
        "plt.title('Power Generated vs. CO2 Emissions (Standardized)')\n",
        "plt.xlabel('Power Generated (Standardized)')\n",
        "plt.ylabel('CO2 Emissions (Standardized)')\n",
        "\n",
        "# Show the scatterplot.\n",
        "plt.show()"
      ],
      "metadata": {
        "colab": {
          "base_uri": "https://localhost:8080/",
          "height": 472
        },
        "id": "daVV0v60ROP7",
        "outputId": "38decd21-8ccf-4ddd-a3a2-b197eead6cdd"
      },
      "execution_count": 93,
      "outputs": [
        {
          "output_type": "display_data",
          "data": {
            "text/plain": [
              "<Figure size 640x480 with 1 Axes>"
            ],
            "image/png": "[encoded data removed]"
          },
          "metadata": {}
        }
      ]
    },
    {
      "cell_type": "markdown",
      "source": [
        "Next, we will be using stochastic gradient descent to perform ordinary least squares linear regression. Stochastic gradient descent (SGD) gradually optimizes the parameters for the line by repeatedly picking a random number of rows, then changing the parameters based on those rows to minimize loss. To learn more, see <a href='https://en.wikipedia.org/wiki/Stochastic_gradient_descent'>here</a>.\n",
        "\n",
        "The process of stochastic gradient descent is done with the <a href='https://scikit-learn.org/stable/'>sklearn</a> library and its <a href='https://scikit-learn.org/stable/modules/generated/sklearn.linear_model.LinearRegression.html'>LinearRegression</a> object."
      ],
      "metadata": {
        "id": "4__uBhKYSnZG"
      }
    },
    {
      "cell_type": "code",
      "source": [
        "# Create the LinearRegression object.\n",
        "reg = LinearRegression()\n",
        "# Train the LinearRegression object on the above plot.\n",
        "reg.fit(standard_data[['total_power']], standard_data[['co2']])\n",
        "\n",
        "# Print the slope and intercept of the fitted model.\n",
        "print(\"Slope: \" + str(reg.coef_[0]))\n",
        "print(\"Intercept: \" + str(reg.intercept_))"
      ],
      "metadata": {
        "colab": {
          "base_uri": "https://localhost:8080/"
        },
        "id": "PPl5gz5sTHar",
        "outputId": "89095518-f086-4487-d0aa-01e2984fd8cb"
      },
      "execution_count": 94,
      "outputs": [
        {
          "output_type": "stream",
          "name": "stdout",
          "text": [
            "Slope: [0.98052749]\n",
            "Intercept: [5.34124587e-17]\n"
          ]
        }
      ]
    },
    {
      "cell_type": "markdown",
      "source": [
        "The next step is to plot the line with the above scatterplot using matplotlib.pyplot's <a href='https://matplotlib.org/stable/api/_as_gen/matplotlib.pyplot.plot.html'>plot()</a> method."
      ],
      "metadata": {
        "id": "qiuuAH7_To6O"
      }
    },
    {
      "cell_type": "code",
      "source": [
        "# Use matplotlib.pyplot.scatter() to create a scatterplot.\n",
        "plt.scatter(standard_data['total_power'], standard_data['co2'])\n",
        "\n",
        "# Plot the line from the linear regression.\n",
        "plt.plot(standard_data['total_power'], reg.coef_[0] * standard_data['total_power'] + reg.intercept_, color='r')\n",
        "plt.title('Power Generated vs. CO2 Emissions (Standardized)')\n",
        "plt.xlabel('Power Generated (Standardized)')\n",
        "plt.ylabel('CO2 Emissions (Standardized)')\n",
        "\n",
        "# Show the scatterplot with its line of best fit.\n",
        "plt.show()"
      ],
      "metadata": {
        "colab": {
          "base_uri": "https://localhost:8080/",
          "height": 472
        },
        "id": "2Ub25AUzTuSa",
        "outputId": "ceb85868-58dd-4bdc-af85-567120ab8a9b"
      },
      "execution_count": 95,
      "outputs": [
        {
          "output_type": "display_data",
          "data": {
            "text/plain": [
              "<Figure size 640x480 with 1 Axes>"
            ],
            "image/png": "[encoded data removed]"
          },
          "metadata": {}
        }
      ]
    },
    {
      "cell_type": "markdown",
      "source": [
        "As you can see, the power generated and the carbon dioxide emissions are rather highly positively correlated. Because the slope is close to 1, these two quantities increase at about the same rate."
      ],
      "metadata": {
        "id": "OxqAhXY9Vgo4"
      }
    },
    {
      "cell_type": "markdown",
      "source": [
        "Now that we have shown this connection, it might be useful to plot the non-standardized data, using the same code and methods as above."
      ],
      "metadata": {
        "id": "XL3hpuyOzHdx"
      }
    },
    {
      "cell_type": "code",
      "source": [
        "# Create the LinearRegression object.\n",
        "reg2 = LinearRegression()\n",
        "# Train the LinearRegression object on the above plot.\n",
        "reg2.fit(combined_data[['total_power']], combined_data[['co2']])\n",
        "\n",
        "# Print the slope and intercept of the fitted model.\n",
        "print(\"Slope: \" + str(reg2.coef_[0]))\n",
        "print(\"Intercept: \" + str(reg2.intercept_))"
      ],
      "metadata": {
        "colab": {
          "base_uri": "https://localhost:8080/"
        },
        "id": "a9mtmxS8zav7",
        "outputId": "27d3d153-5818-4087-9e85-4498feec15d6"
      },
      "execution_count": 96,
      "outputs": [
        {
          "output_type": "stream",
          "name": "stdout",
          "text": [
            "Slope: [0.01350349]\n",
            "Intercept: [74.82795873]\n"
          ]
        }
      ]
    },
    {
      "cell_type": "code",
      "source": [
        "# Use matplotlib.pyplot.scatter() to create a scatterplot.\n",
        "plt.scatter(combined_data['total_power'], combined_data['co2'])\n",
        "\n",
        "# Plot the line from the linear regression.\n",
        "plt.plot(combined_data['total_power'], reg2.coef_[0] * combined_data['total_power'] + reg2.intercept_, color='r')\n",
        "plt.title('Power Generated vs. CO2 Emissions')\n",
        "plt.xlabel('Power Generated (GWh)')\n",
        "plt.ylabel('CO2 Emissions (million metric tons)')\n",
        "\n",
        "# Show the scatterplot with its line of best fit.\n",
        "plt.show()"
      ],
      "metadata": {
        "colab": {
          "base_uri": "https://localhost:8080/",
          "height": 472
        },
        "id": "hxdbN1CszPEh",
        "outputId": "58cbd195-1671-49fa-f527-46a8b3721f3e"
      },
      "execution_count": 97,
      "outputs": [
        {
          "output_type": "display_data",
          "data": {
            "text/plain": [
              "<Figure size 640x480 with 1 Axes>"
            ],
            "image/png": "[encoded data removed]"
          },
          "metadata": {}
        }
      ]
    },
    {
      "cell_type": "markdown",
      "source": [
        "On average, for every additional GWh of power generated, about an extra 13,500 metric tons of carbon dioxide are released."
      ],
      "metadata": {
        "id": "Sz6cFNAO1vks"
      }
    },
    {
      "cell_type": "markdown",
      "source": [
        "<center><h3 id='insights'>Part 5: Insights</h3></center>\n",
        "\n",
        "Clearly, power generation and carbon dioxide emissions are positively correlated. This was not an unexpected result, and it shows that a main way for individual countries to reduce their CO<sup>2</sup> emissions is to reduce their power generation and consumption.\n",
        "\n",
        "Obviously, the world needs more than that. As seen by the recent record-breaking heat waves from this summer, the planet needs fixing.\n",
        "\n",
        "On an implementation-related note, I tried to implement my function for stochastic gradient descent from Project 4 to use instead of sklearn, but I couldn't get the matrices to be aligned."
      ],
      "metadata": {
        "id": "dgYvHxtnlRlv"
      }
    },
    {
      "cell_type": "markdown",
      "source": [
        "<center><small><a href='#top'>Jump to Top</a></small></center>"
      ],
      "metadata": {
        "id": "PDyTHNNEuPKi"
      }
    }
  ]
}